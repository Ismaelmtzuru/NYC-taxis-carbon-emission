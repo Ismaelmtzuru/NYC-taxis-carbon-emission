{
 "cells": [
  {
   "cell_type": "code",
   "execution_count": 1,
   "metadata": {},
   "outputs": [],
   "source": [
    "# Importación de las bibliotecas necesarias\n",
    "import matplotlib.pyplot as plt\n",
    "import pandas as pd\n",
    "from pycaret.time_series import *\n",
    "\n",
    "    "
   ]
  },
  {
   "cell_type": "code",
   "execution_count": 3,
   "metadata": {},
   "outputs": [
    {
     "data": {
      "text/html": [
       "<div>\n",
       "<style scoped>\n",
       "    .dataframe tbody tr th:only-of-type {\n",
       "        vertical-align: middle;\n",
       "    }\n",
       "\n",
       "    .dataframe tbody tr th {\n",
       "        vertical-align: top;\n",
       "    }\n",
       "\n",
       "    .dataframe thead th {\n",
       "        text-align: right;\n",
       "    }\n",
       "</style>\n",
       "<table border=\"1\" class=\"dataframe\">\n",
       "  <thead>\n",
       "    <tr style=\"text-align: right;\">\n",
       "      <th></th>\n",
       "      <th>hvfhs_license_num</th>\n",
       "      <th>dispatching_base_num</th>\n",
       "      <th>originating_base_num</th>\n",
       "      <th>request_datetime</th>\n",
       "      <th>on_scene_datetime</th>\n",
       "      <th>pickup_datetime</th>\n",
       "      <th>dropoff_datetime</th>\n",
       "      <th>PULocationID</th>\n",
       "      <th>DOLocationID</th>\n",
       "      <th>trip_miles</th>\n",
       "      <th>...</th>\n",
       "      <th>sales_tax</th>\n",
       "      <th>congestion_surcharge</th>\n",
       "      <th>airport_fee</th>\n",
       "      <th>tips</th>\n",
       "      <th>driver_pay</th>\n",
       "      <th>shared_request_flag</th>\n",
       "      <th>shared_match_flag</th>\n",
       "      <th>access_a_ride_flag</th>\n",
       "      <th>wav_request_flag</th>\n",
       "      <th>wav_match_flag</th>\n",
       "    </tr>\n",
       "  </thead>\n",
       "  <tbody>\n",
       "    <tr>\n",
       "      <th>0</th>\n",
       "      <td>HV0003</td>\n",
       "      <td>B03404</td>\n",
       "      <td>B03404</td>\n",
       "      <td>2023-01-01 00:18:06</td>\n",
       "      <td>2023-01-01 00:19:24</td>\n",
       "      <td>2023-01-01 00:19:38</td>\n",
       "      <td>2023-01-01 00:48:07</td>\n",
       "      <td>48</td>\n",
       "      <td>68</td>\n",
       "      <td>0.94</td>\n",
       "      <td>...</td>\n",
       "      <td>2.30</td>\n",
       "      <td>2.75</td>\n",
       "      <td>0.0</td>\n",
       "      <td>5.22</td>\n",
       "      <td>27.83</td>\n",
       "      <td>N</td>\n",
       "      <td>N</td>\n",
       "      <td></td>\n",
       "      <td>N</td>\n",
       "      <td>N</td>\n",
       "    </tr>\n",
       "    <tr>\n",
       "      <th>1</th>\n",
       "      <td>HV0003</td>\n",
       "      <td>B03404</td>\n",
       "      <td>B03404</td>\n",
       "      <td>2023-01-01 00:48:42</td>\n",
       "      <td>2023-01-01 00:56:20</td>\n",
       "      <td>2023-01-01 00:58:39</td>\n",
       "      <td>2023-01-01 01:33:08</td>\n",
       "      <td>246</td>\n",
       "      <td>163</td>\n",
       "      <td>2.78</td>\n",
       "      <td>...</td>\n",
       "      <td>5.34</td>\n",
       "      <td>2.75</td>\n",
       "      <td>0.0</td>\n",
       "      <td>0.00</td>\n",
       "      <td>50.15</td>\n",
       "      <td>N</td>\n",
       "      <td>N</td>\n",
       "      <td></td>\n",
       "      <td>N</td>\n",
       "      <td>N</td>\n",
       "    </tr>\n",
       "    <tr>\n",
       "      <th>2</th>\n",
       "      <td>HV0003</td>\n",
       "      <td>B03404</td>\n",
       "      <td>B03404</td>\n",
       "      <td>2023-01-01 00:15:35</td>\n",
       "      <td>2023-01-01 00:20:14</td>\n",
       "      <td>2023-01-01 00:20:27</td>\n",
       "      <td>2023-01-01 00:37:54</td>\n",
       "      <td>9</td>\n",
       "      <td>129</td>\n",
       "      <td>8.81</td>\n",
       "      <td>...</td>\n",
       "      <td>2.16</td>\n",
       "      <td>0.00</td>\n",
       "      <td>0.0</td>\n",
       "      <td>0.00</td>\n",
       "      <td>20.22</td>\n",
       "      <td>N</td>\n",
       "      <td>N</td>\n",
       "      <td></td>\n",
       "      <td>N</td>\n",
       "      <td>N</td>\n",
       "    </tr>\n",
       "    <tr>\n",
       "      <th>3</th>\n",
       "      <td>HV0003</td>\n",
       "      <td>B03404</td>\n",
       "      <td>B03404</td>\n",
       "      <td>2023-01-01 00:35:24</td>\n",
       "      <td>2023-01-01 00:39:30</td>\n",
       "      <td>2023-01-01 00:41:05</td>\n",
       "      <td>2023-01-01 00:48:16</td>\n",
       "      <td>129</td>\n",
       "      <td>129</td>\n",
       "      <td>0.67</td>\n",
       "      <td>...</td>\n",
       "      <td>1.22</td>\n",
       "      <td>0.00</td>\n",
       "      <td>0.0</td>\n",
       "      <td>0.00</td>\n",
       "      <td>7.90</td>\n",
       "      <td>N</td>\n",
       "      <td>N</td>\n",
       "      <td></td>\n",
       "      <td>N</td>\n",
       "      <td>N</td>\n",
       "    </tr>\n",
       "    <tr>\n",
       "      <th>4</th>\n",
       "      <td>HV0003</td>\n",
       "      <td>B03404</td>\n",
       "      <td>B03404</td>\n",
       "      <td>2023-01-01 00:43:15</td>\n",
       "      <td>2023-01-01 00:51:10</td>\n",
       "      <td>2023-01-01 00:52:47</td>\n",
       "      <td>2023-01-01 01:04:51</td>\n",
       "      <td>129</td>\n",
       "      <td>92</td>\n",
       "      <td>4.38</td>\n",
       "      <td>...</td>\n",
       "      <td>1.82</td>\n",
       "      <td>0.00</td>\n",
       "      <td>0.0</td>\n",
       "      <td>0.00</td>\n",
       "      <td>16.48</td>\n",
       "      <td>N</td>\n",
       "      <td>N</td>\n",
       "      <td></td>\n",
       "      <td>N</td>\n",
       "      <td>N</td>\n",
       "    </tr>\n",
       "    <tr>\n",
       "      <th>...</th>\n",
       "      <td>...</td>\n",
       "      <td>...</td>\n",
       "      <td>...</td>\n",
       "      <td>...</td>\n",
       "      <td>...</td>\n",
       "      <td>...</td>\n",
       "      <td>...</td>\n",
       "      <td>...</td>\n",
       "      <td>...</td>\n",
       "      <td>...</td>\n",
       "      <td>...</td>\n",
       "      <td>...</td>\n",
       "      <td>...</td>\n",
       "      <td>...</td>\n",
       "      <td>...</td>\n",
       "      <td>...</td>\n",
       "      <td>...</td>\n",
       "      <td>...</td>\n",
       "      <td>...</td>\n",
       "      <td>...</td>\n",
       "      <td>...</td>\n",
       "    </tr>\n",
       "    <tr>\n",
       "      <th>18479026</th>\n",
       "      <td>HV0003</td>\n",
       "      <td>B03404</td>\n",
       "      <td>B03404</td>\n",
       "      <td>2023-01-31 23:33:42</td>\n",
       "      <td>2023-01-31 23:37:04</td>\n",
       "      <td>2023-01-31 23:39:34</td>\n",
       "      <td>2023-01-31 23:45:11</td>\n",
       "      <td>161</td>\n",
       "      <td>100</td>\n",
       "      <td>0.67</td>\n",
       "      <td>...</td>\n",
       "      <td>1.31</td>\n",
       "      <td>2.75</td>\n",
       "      <td>0.0</td>\n",
       "      <td>0.00</td>\n",
       "      <td>10.62</td>\n",
       "      <td>N</td>\n",
       "      <td>N</td>\n",
       "      <td></td>\n",
       "      <td>N</td>\n",
       "      <td>N</td>\n",
       "    </tr>\n",
       "    <tr>\n",
       "      <th>18479027</th>\n",
       "      <td>HV0003</td>\n",
       "      <td>B03404</td>\n",
       "      <td>B03404</td>\n",
       "      <td>2023-01-31 23:31:20</td>\n",
       "      <td>2023-01-31 23:35:17</td>\n",
       "      <td>2023-01-31 23:35:25</td>\n",
       "      <td>2023-01-31 23:47:28</td>\n",
       "      <td>129</td>\n",
       "      <td>56</td>\n",
       "      <td>2.04</td>\n",
       "      <td>...</td>\n",
       "      <td>0.88</td>\n",
       "      <td>0.00</td>\n",
       "      <td>0.0</td>\n",
       "      <td>0.00</td>\n",
       "      <td>9.82</td>\n",
       "      <td>N</td>\n",
       "      <td>N</td>\n",
       "      <td></td>\n",
       "      <td>N</td>\n",
       "      <td>N</td>\n",
       "    </tr>\n",
       "    <tr>\n",
       "      <th>18479028</th>\n",
       "      <td>HV0003</td>\n",
       "      <td>B03404</td>\n",
       "      <td>B03404</td>\n",
       "      <td>2023-01-31 23:15:39</td>\n",
       "      <td>2023-01-31 23:16:35</td>\n",
       "      <td>2023-01-31 23:18:09</td>\n",
       "      <td>2023-01-31 23:34:46</td>\n",
       "      <td>234</td>\n",
       "      <td>236</td>\n",
       "      <td>4.14</td>\n",
       "      <td>...</td>\n",
       "      <td>3.41</td>\n",
       "      <td>2.75</td>\n",
       "      <td>0.0</td>\n",
       "      <td>0.00</td>\n",
       "      <td>24.22</td>\n",
       "      <td>N</td>\n",
       "      <td>N</td>\n",
       "      <td></td>\n",
       "      <td>N</td>\n",
       "      <td>N</td>\n",
       "    </tr>\n",
       "    <tr>\n",
       "      <th>18479029</th>\n",
       "      <td>HV0003</td>\n",
       "      <td>B03404</td>\n",
       "      <td>B03404</td>\n",
       "      <td>2023-01-31 23:40:03</td>\n",
       "      <td>2023-01-31 23:41:31</td>\n",
       "      <td>2023-01-31 23:44:07</td>\n",
       "      <td>2023-01-31 23:52:16</td>\n",
       "      <td>237</td>\n",
       "      <td>163</td>\n",
       "      <td>1.10</td>\n",
       "      <td>...</td>\n",
       "      <td>1.37</td>\n",
       "      <td>2.75</td>\n",
       "      <td>0.0</td>\n",
       "      <td>0.00</td>\n",
       "      <td>12.62</td>\n",
       "      <td>N</td>\n",
       "      <td>N</td>\n",
       "      <td></td>\n",
       "      <td>N</td>\n",
       "      <td>N</td>\n",
       "    </tr>\n",
       "    <tr>\n",
       "      <th>18479030</th>\n",
       "      <td>HV0003</td>\n",
       "      <td>B03404</td>\n",
       "      <td>B03404</td>\n",
       "      <td>2023-01-31 23:53:42</td>\n",
       "      <td>2023-01-31 23:55:27</td>\n",
       "      <td>2023-01-31 23:56:17</td>\n",
       "      <td>2023-02-01 00:04:59</td>\n",
       "      <td>161</td>\n",
       "      <td>113</td>\n",
       "      <td>2.03</td>\n",
       "      <td>...</td>\n",
       "      <td>1.91</td>\n",
       "      <td>2.75</td>\n",
       "      <td>0.0</td>\n",
       "      <td>0.00</td>\n",
       "      <td>14.88</td>\n",
       "      <td>N</td>\n",
       "      <td>N</td>\n",
       "      <td></td>\n",
       "      <td>N</td>\n",
       "      <td>N</td>\n",
       "    </tr>\n",
       "  </tbody>\n",
       "</table>\n",
       "<p>18479031 rows × 24 columns</p>\n",
       "</div>"
      ],
      "text/plain": [
       "         hvfhs_license_num dispatching_base_num originating_base_num   \n",
       "0                   HV0003               B03404               B03404  \\\n",
       "1                   HV0003               B03404               B03404   \n",
       "2                   HV0003               B03404               B03404   \n",
       "3                   HV0003               B03404               B03404   \n",
       "4                   HV0003               B03404               B03404   \n",
       "...                    ...                  ...                  ...   \n",
       "18479026            HV0003               B03404               B03404   \n",
       "18479027            HV0003               B03404               B03404   \n",
       "18479028            HV0003               B03404               B03404   \n",
       "18479029            HV0003               B03404               B03404   \n",
       "18479030            HV0003               B03404               B03404   \n",
       "\n",
       "            request_datetime   on_scene_datetime     pickup_datetime   \n",
       "0        2023-01-01 00:18:06 2023-01-01 00:19:24 2023-01-01 00:19:38  \\\n",
       "1        2023-01-01 00:48:42 2023-01-01 00:56:20 2023-01-01 00:58:39   \n",
       "2        2023-01-01 00:15:35 2023-01-01 00:20:14 2023-01-01 00:20:27   \n",
       "3        2023-01-01 00:35:24 2023-01-01 00:39:30 2023-01-01 00:41:05   \n",
       "4        2023-01-01 00:43:15 2023-01-01 00:51:10 2023-01-01 00:52:47   \n",
       "...                      ...                 ...                 ...   \n",
       "18479026 2023-01-31 23:33:42 2023-01-31 23:37:04 2023-01-31 23:39:34   \n",
       "18479027 2023-01-31 23:31:20 2023-01-31 23:35:17 2023-01-31 23:35:25   \n",
       "18479028 2023-01-31 23:15:39 2023-01-31 23:16:35 2023-01-31 23:18:09   \n",
       "18479029 2023-01-31 23:40:03 2023-01-31 23:41:31 2023-01-31 23:44:07   \n",
       "18479030 2023-01-31 23:53:42 2023-01-31 23:55:27 2023-01-31 23:56:17   \n",
       "\n",
       "            dropoff_datetime  PULocationID  DOLocationID  trip_miles  ...   \n",
       "0        2023-01-01 00:48:07            48            68        0.94  ...  \\\n",
       "1        2023-01-01 01:33:08           246           163        2.78  ...   \n",
       "2        2023-01-01 00:37:54             9           129        8.81  ...   \n",
       "3        2023-01-01 00:48:16           129           129        0.67  ...   \n",
       "4        2023-01-01 01:04:51           129            92        4.38  ...   \n",
       "...                      ...           ...           ...         ...  ...   \n",
       "18479026 2023-01-31 23:45:11           161           100        0.67  ...   \n",
       "18479027 2023-01-31 23:47:28           129            56        2.04  ...   \n",
       "18479028 2023-01-31 23:34:46           234           236        4.14  ...   \n",
       "18479029 2023-01-31 23:52:16           237           163        1.10  ...   \n",
       "18479030 2023-02-01 00:04:59           161           113        2.03  ...   \n",
       "\n",
       "          sales_tax  congestion_surcharge  airport_fee  tips  driver_pay   \n",
       "0              2.30                  2.75          0.0  5.22       27.83  \\\n",
       "1              5.34                  2.75          0.0  0.00       50.15   \n",
       "2              2.16                  0.00          0.0  0.00       20.22   \n",
       "3              1.22                  0.00          0.0  0.00        7.90   \n",
       "4              1.82                  0.00          0.0  0.00       16.48   \n",
       "...             ...                   ...          ...   ...         ...   \n",
       "18479026       1.31                  2.75          0.0  0.00       10.62   \n",
       "18479027       0.88                  0.00          0.0  0.00        9.82   \n",
       "18479028       3.41                  2.75          0.0  0.00       24.22   \n",
       "18479029       1.37                  2.75          0.0  0.00       12.62   \n",
       "18479030       1.91                  2.75          0.0  0.00       14.88   \n",
       "\n",
       "          shared_request_flag  shared_match_flag  access_a_ride_flag   \n",
       "0                           N                  N                      \\\n",
       "1                           N                  N                       \n",
       "2                           N                  N                       \n",
       "3                           N                  N                       \n",
       "4                           N                  N                       \n",
       "...                       ...                ...                 ...   \n",
       "18479026                    N                  N                       \n",
       "18479027                    N                  N                       \n",
       "18479028                    N                  N                       \n",
       "18479029                    N                  N                       \n",
       "18479030                    N                  N                       \n",
       "\n",
       "          wav_request_flag wav_match_flag  \n",
       "0                        N              N  \n",
       "1                        N              N  \n",
       "2                        N              N  \n",
       "3                        N              N  \n",
       "4                        N              N  \n",
       "...                    ...            ...  \n",
       "18479026                 N              N  \n",
       "18479027                 N              N  \n",
       "18479028                 N              N  \n",
       "18479029                 N              N  \n",
       "18479030                 N              N  \n",
       "\n",
       "[18479031 rows x 24 columns]"
      ]
     },
     "execution_count": 3,
     "metadata": {},
     "output_type": "execute_result"
    }
   ],
   "source": [
    "# Carga de los datos desde un archivo parquet\n",
    "df = pd.read_parquet('dataset\\\\fhvhv_tripdata_2023-01.parquet')\n",
    "df"
   ]
  },
  {
   "cell_type": "code",
   "execution_count": 4,
   "metadata": {},
   "outputs": [],
   "source": [
    "# Se crea la columna 'date' extrayendo la fecha de 'pickup_datetime' para un futuro uso.\n",
    "df['date'] = df['pickup_datetime'].dt.date\n"
   ]
  },
  {
   "cell_type": "code",
   "execution_count": 5,
   "metadata": {},
   "outputs": [],
   "source": [
    "# Se toman los valores necesarios para el modelo de machine learning Time series\n",
    "df = df[['date','driver_pay']]"
   ]
  },
  {
   "cell_type": "code",
   "execution_count": 6,
   "metadata": {},
   "outputs": [],
   "source": [
    "# Se toman los valores necesarios para el modelo de machine learning Time series\n",
    "df = df[['date','driver_pay']]"
   ]
  },
  {
   "cell_type": "code",
   "execution_count": 7,
   "metadata": {},
   "outputs": [],
   "source": [
    "# Se eliminan valores repetidos y nulos.\n",
    "df.dropna(inplace=True)\n",
    "df.drop_duplicates(inplace=True)"
   ]
  },
  {
   "cell_type": "code",
   "execution_count": 8,
   "metadata": {},
   "outputs": [],
   "source": [
    "# Agrupación por fecha 'date' y suma de 'driver_pay' \n",
    "agrupado = df.groupby('date')['driver_pay'].sum().reset_index()\n"
   ]
  },
  {
   "cell_type": "code",
   "execution_count": 9,
   "metadata": {},
   "outputs": [
    {
     "data": {
      "text/plain": [
       "dtype('<M8[ns]')"
      ]
     },
     "execution_count": 9,
     "metadata": {},
     "output_type": "execute_result"
    }
   ],
   "source": [
    "# Se convierte la columna 'date' a datetime para facilitar su manipulación a Pycaret\n",
    "agrupado['date'] = pd.to_datetime(df['date'])\n",
    "agrupado['date'].dtype"
   ]
  },
  {
   "cell_type": "code",
   "execution_count": 10,
   "metadata": {},
   "outputs": [
    {
     "data": {
      "text/html": [
       "<style type=\"text/css\">\n",
       "#T_35cdd_row25_col1 {\n",
       "  background-color: lightgreen;\n",
       "}\n",
       "</style>\n",
       "<table id=\"T_35cdd\">\n",
       "  <thead>\n",
       "    <tr>\n",
       "      <th class=\"blank level0\" >&nbsp;</th>\n",
       "      <th id=\"T_35cdd_level0_col0\" class=\"col_heading level0 col0\" >Description</th>\n",
       "      <th id=\"T_35cdd_level0_col1\" class=\"col_heading level0 col1\" >Value</th>\n",
       "    </tr>\n",
       "  </thead>\n",
       "  <tbody>\n",
       "    <tr>\n",
       "      <th id=\"T_35cdd_level0_row0\" class=\"row_heading level0 row0\" >0</th>\n",
       "      <td id=\"T_35cdd_row0_col0\" class=\"data row0 col0\" >session_id</td>\n",
       "      <td id=\"T_35cdd_row0_col1\" class=\"data row0 col1\" >123</td>\n",
       "    </tr>\n",
       "    <tr>\n",
       "      <th id=\"T_35cdd_level0_row1\" class=\"row_heading level0 row1\" >1</th>\n",
       "      <td id=\"T_35cdd_row1_col0\" class=\"data row1 col0\" >Target</td>\n",
       "      <td id=\"T_35cdd_row1_col1\" class=\"data row1 col1\" >driver_pay</td>\n",
       "    </tr>\n",
       "    <tr>\n",
       "      <th id=\"T_35cdd_level0_row2\" class=\"row_heading level0 row2\" >2</th>\n",
       "      <td id=\"T_35cdd_row2_col0\" class=\"data row2 col0\" >Approach</td>\n",
       "      <td id=\"T_35cdd_row2_col1\" class=\"data row2 col1\" >Univariate</td>\n",
       "    </tr>\n",
       "    <tr>\n",
       "      <th id=\"T_35cdd_level0_row3\" class=\"row_heading level0 row3\" >3</th>\n",
       "      <td id=\"T_35cdd_row3_col0\" class=\"data row3 col0\" >Exogenous Variables</td>\n",
       "      <td id=\"T_35cdd_row3_col1\" class=\"data row3 col1\" >Present</td>\n",
       "    </tr>\n",
       "    <tr>\n",
       "      <th id=\"T_35cdd_level0_row4\" class=\"row_heading level0 row4\" >4</th>\n",
       "      <td id=\"T_35cdd_row4_col0\" class=\"data row4 col0\" >Original data shape</td>\n",
       "      <td id=\"T_35cdd_row4_col1\" class=\"data row4 col1\" >(31, 2)</td>\n",
       "    </tr>\n",
       "    <tr>\n",
       "      <th id=\"T_35cdd_level0_row5\" class=\"row_heading level0 row5\" >5</th>\n",
       "      <td id=\"T_35cdd_row5_col0\" class=\"data row5 col0\" >Transformed data shape</td>\n",
       "      <td id=\"T_35cdd_row5_col1\" class=\"data row5 col1\" >(31, 2)</td>\n",
       "    </tr>\n",
       "    <tr>\n",
       "      <th id=\"T_35cdd_level0_row6\" class=\"row_heading level0 row6\" >6</th>\n",
       "      <td id=\"T_35cdd_row6_col0\" class=\"data row6 col0\" >Transformed train set shape</td>\n",
       "      <td id=\"T_35cdd_row6_col1\" class=\"data row6 col1\" >(28, 2)</td>\n",
       "    </tr>\n",
       "    <tr>\n",
       "      <th id=\"T_35cdd_level0_row7\" class=\"row_heading level0 row7\" >7</th>\n",
       "      <td id=\"T_35cdd_row7_col0\" class=\"data row7 col0\" >Transformed test set shape</td>\n",
       "      <td id=\"T_35cdd_row7_col1\" class=\"data row7 col1\" >(3, 2)</td>\n",
       "    </tr>\n",
       "    <tr>\n",
       "      <th id=\"T_35cdd_level0_row8\" class=\"row_heading level0 row8\" >8</th>\n",
       "      <td id=\"T_35cdd_row8_col0\" class=\"data row8 col0\" >Rows with missing values</td>\n",
       "      <td id=\"T_35cdd_row8_col1\" class=\"data row8 col1\" >0.0%</td>\n",
       "    </tr>\n",
       "    <tr>\n",
       "      <th id=\"T_35cdd_level0_row9\" class=\"row_heading level0 row9\" >9</th>\n",
       "      <td id=\"T_35cdd_row9_col0\" class=\"data row9 col0\" >Fold Generator</td>\n",
       "      <td id=\"T_35cdd_row9_col1\" class=\"data row9 col1\" >ExpandingWindowSplitter</td>\n",
       "    </tr>\n",
       "    <tr>\n",
       "      <th id=\"T_35cdd_level0_row10\" class=\"row_heading level0 row10\" >10</th>\n",
       "      <td id=\"T_35cdd_row10_col0\" class=\"data row10 col0\" >Fold Number</td>\n",
       "      <td id=\"T_35cdd_row10_col1\" class=\"data row10 col1\" >5</td>\n",
       "    </tr>\n",
       "    <tr>\n",
       "      <th id=\"T_35cdd_level0_row11\" class=\"row_heading level0 row11\" >11</th>\n",
       "      <td id=\"T_35cdd_row11_col0\" class=\"data row11 col0\" >Enforce Prediction Interval</td>\n",
       "      <td id=\"T_35cdd_row11_col1\" class=\"data row11 col1\" >False</td>\n",
       "    </tr>\n",
       "    <tr>\n",
       "      <th id=\"T_35cdd_level0_row12\" class=\"row_heading level0 row12\" >12</th>\n",
       "      <td id=\"T_35cdd_row12_col0\" class=\"data row12 col0\" >Splits used for hyperparameters</td>\n",
       "      <td id=\"T_35cdd_row12_col1\" class=\"data row12 col1\" >all</td>\n",
       "    </tr>\n",
       "    <tr>\n",
       "      <th id=\"T_35cdd_level0_row13\" class=\"row_heading level0 row13\" >13</th>\n",
       "      <td id=\"T_35cdd_row13_col0\" class=\"data row13 col0\" >User Defined Seasonal Period(s)</td>\n",
       "      <td id=\"T_35cdd_row13_col1\" class=\"data row13 col1\" >D</td>\n",
       "    </tr>\n",
       "    <tr>\n",
       "      <th id=\"T_35cdd_level0_row14\" class=\"row_heading level0 row14\" >14</th>\n",
       "      <td id=\"T_35cdd_row14_col0\" class=\"data row14 col0\" >Ignore Seasonality Test</td>\n",
       "      <td id=\"T_35cdd_row14_col1\" class=\"data row14 col1\" >False</td>\n",
       "    </tr>\n",
       "    <tr>\n",
       "      <th id=\"T_35cdd_level0_row15\" class=\"row_heading level0 row15\" >15</th>\n",
       "      <td id=\"T_35cdd_row15_col0\" class=\"data row15 col0\" >Seasonality Detection Algo</td>\n",
       "      <td id=\"T_35cdd_row15_col1\" class=\"data row15 col1\" >user_defined</td>\n",
       "    </tr>\n",
       "    <tr>\n",
       "      <th id=\"T_35cdd_level0_row16\" class=\"row_heading level0 row16\" >16</th>\n",
       "      <td id=\"T_35cdd_row16_col0\" class=\"data row16 col0\" >Max Period to Consider</td>\n",
       "      <td id=\"T_35cdd_row16_col1\" class=\"data row16 col1\" >60</td>\n",
       "    </tr>\n",
       "    <tr>\n",
       "      <th id=\"T_35cdd_level0_row17\" class=\"row_heading level0 row17\" >17</th>\n",
       "      <td id=\"T_35cdd_row17_col0\" class=\"data row17 col0\" >Seasonal Period(s) Tested</td>\n",
       "      <td id=\"T_35cdd_row17_col1\" class=\"data row17 col1\" >[7]</td>\n",
       "    </tr>\n",
       "    <tr>\n",
       "      <th id=\"T_35cdd_level0_row18\" class=\"row_heading level0 row18\" >18</th>\n",
       "      <td id=\"T_35cdd_row18_col0\" class=\"data row18 col0\" >Significant Seasonal Period(s)</td>\n",
       "      <td id=\"T_35cdd_row18_col1\" class=\"data row18 col1\" >[7]</td>\n",
       "    </tr>\n",
       "    <tr>\n",
       "      <th id=\"T_35cdd_level0_row19\" class=\"row_heading level0 row19\" >19</th>\n",
       "      <td id=\"T_35cdd_row19_col0\" class=\"data row19 col0\" >Significant Seasonal Period(s) without Harmonics</td>\n",
       "      <td id=\"T_35cdd_row19_col1\" class=\"data row19 col1\" >[7]</td>\n",
       "    </tr>\n",
       "    <tr>\n",
       "      <th id=\"T_35cdd_level0_row20\" class=\"row_heading level0 row20\" >20</th>\n",
       "      <td id=\"T_35cdd_row20_col0\" class=\"data row20 col0\" >Remove Harmonics</td>\n",
       "      <td id=\"T_35cdd_row20_col1\" class=\"data row20 col1\" >False</td>\n",
       "    </tr>\n",
       "    <tr>\n",
       "      <th id=\"T_35cdd_level0_row21\" class=\"row_heading level0 row21\" >21</th>\n",
       "      <td id=\"T_35cdd_row21_col0\" class=\"data row21 col0\" >Harmonics Order Method</td>\n",
       "      <td id=\"T_35cdd_row21_col1\" class=\"data row21 col1\" >harmonic_max</td>\n",
       "    </tr>\n",
       "    <tr>\n",
       "      <th id=\"T_35cdd_level0_row22\" class=\"row_heading level0 row22\" >22</th>\n",
       "      <td id=\"T_35cdd_row22_col0\" class=\"data row22 col0\" >Num Seasonalities to Use</td>\n",
       "      <td id=\"T_35cdd_row22_col1\" class=\"data row22 col1\" >1</td>\n",
       "    </tr>\n",
       "    <tr>\n",
       "      <th id=\"T_35cdd_level0_row23\" class=\"row_heading level0 row23\" >23</th>\n",
       "      <td id=\"T_35cdd_row23_col0\" class=\"data row23 col0\" >All Seasonalities to Use</td>\n",
       "      <td id=\"T_35cdd_row23_col1\" class=\"data row23 col1\" >[7]</td>\n",
       "    </tr>\n",
       "    <tr>\n",
       "      <th id=\"T_35cdd_level0_row24\" class=\"row_heading level0 row24\" >24</th>\n",
       "      <td id=\"T_35cdd_row24_col0\" class=\"data row24 col0\" >Primary Seasonality</td>\n",
       "      <td id=\"T_35cdd_row24_col1\" class=\"data row24 col1\" >7</td>\n",
       "    </tr>\n",
       "    <tr>\n",
       "      <th id=\"T_35cdd_level0_row25\" class=\"row_heading level0 row25\" >25</th>\n",
       "      <td id=\"T_35cdd_row25_col0\" class=\"data row25 col0\" >Seasonality Present</td>\n",
       "      <td id=\"T_35cdd_row25_col1\" class=\"data row25 col1\" >True</td>\n",
       "    </tr>\n",
       "    <tr>\n",
       "      <th id=\"T_35cdd_level0_row26\" class=\"row_heading level0 row26\" >26</th>\n",
       "      <td id=\"T_35cdd_row26_col0\" class=\"data row26 col0\" >Seasonality Type</td>\n",
       "      <td id=\"T_35cdd_row26_col1\" class=\"data row26 col1\" >mul</td>\n",
       "    </tr>\n",
       "    <tr>\n",
       "      <th id=\"T_35cdd_level0_row27\" class=\"row_heading level0 row27\" >27</th>\n",
       "      <td id=\"T_35cdd_row27_col0\" class=\"data row27 col0\" >Target Strictly Positive</td>\n",
       "      <td id=\"T_35cdd_row27_col1\" class=\"data row27 col1\" >True</td>\n",
       "    </tr>\n",
       "    <tr>\n",
       "      <th id=\"T_35cdd_level0_row28\" class=\"row_heading level0 row28\" >28</th>\n",
       "      <td id=\"T_35cdd_row28_col0\" class=\"data row28 col0\" >Target White Noise</td>\n",
       "      <td id=\"T_35cdd_row28_col1\" class=\"data row28 col1\" >No</td>\n",
       "    </tr>\n",
       "    <tr>\n",
       "      <th id=\"T_35cdd_level0_row29\" class=\"row_heading level0 row29\" >29</th>\n",
       "      <td id=\"T_35cdd_row29_col0\" class=\"data row29 col0\" >Recommended d</td>\n",
       "      <td id=\"T_35cdd_row29_col1\" class=\"data row29 col1\" >0</td>\n",
       "    </tr>\n",
       "    <tr>\n",
       "      <th id=\"T_35cdd_level0_row30\" class=\"row_heading level0 row30\" >30</th>\n",
       "      <td id=\"T_35cdd_row30_col0\" class=\"data row30 col0\" >Recommended Seasonal D</td>\n",
       "      <td id=\"T_35cdd_row30_col1\" class=\"data row30 col1\" >1</td>\n",
       "    </tr>\n",
       "    <tr>\n",
       "      <th id=\"T_35cdd_level0_row31\" class=\"row_heading level0 row31\" >31</th>\n",
       "      <td id=\"T_35cdd_row31_col0\" class=\"data row31 col0\" >Preprocess</td>\n",
       "      <td id=\"T_35cdd_row31_col1\" class=\"data row31 col1\" >False</td>\n",
       "    </tr>\n",
       "    <tr>\n",
       "      <th id=\"T_35cdd_level0_row32\" class=\"row_heading level0 row32\" >32</th>\n",
       "      <td id=\"T_35cdd_row32_col0\" class=\"data row32 col0\" >CPU Jobs</td>\n",
       "      <td id=\"T_35cdd_row32_col1\" class=\"data row32 col1\" >-1</td>\n",
       "    </tr>\n",
       "    <tr>\n",
       "      <th id=\"T_35cdd_level0_row33\" class=\"row_heading level0 row33\" >33</th>\n",
       "      <td id=\"T_35cdd_row33_col0\" class=\"data row33 col0\" >Use GPU</td>\n",
       "      <td id=\"T_35cdd_row33_col1\" class=\"data row33 col1\" >False</td>\n",
       "    </tr>\n",
       "    <tr>\n",
       "      <th id=\"T_35cdd_level0_row34\" class=\"row_heading level0 row34\" >34</th>\n",
       "      <td id=\"T_35cdd_row34_col0\" class=\"data row34 col0\" >Log Experiment</td>\n",
       "      <td id=\"T_35cdd_row34_col1\" class=\"data row34 col1\" >False</td>\n",
       "    </tr>\n",
       "    <tr>\n",
       "      <th id=\"T_35cdd_level0_row35\" class=\"row_heading level0 row35\" >35</th>\n",
       "      <td id=\"T_35cdd_row35_col0\" class=\"data row35 col0\" >Experiment Name</td>\n",
       "      <td id=\"T_35cdd_row35_col1\" class=\"data row35 col1\" >ts-default-name</td>\n",
       "    </tr>\n",
       "    <tr>\n",
       "      <th id=\"T_35cdd_level0_row36\" class=\"row_heading level0 row36\" >36</th>\n",
       "      <td id=\"T_35cdd_row36_col0\" class=\"data row36 col0\" >USI</td>\n",
       "      <td id=\"T_35cdd_row36_col1\" class=\"data row36 col1\" >65ae</td>\n",
       "    </tr>\n",
       "  </tbody>\n",
       "</table>\n"
      ],
      "text/plain": [
       "<pandas.io.formats.style.Styler at 0x1da8bed1c90>"
      ]
     },
     "metadata": {},
     "output_type": "display_data"
    }
   ],
   "source": [
    "# Se configura el entorno de Pycaret para el modelo de series temporales\n",
    "s = setup(agrupado,fh=3,fold=5,session_id=123,target='driver_pay',seasonal_period='D')"
   ]
  },
  {
   "cell_type": "code",
   "execution_count": 11,
   "metadata": {},
   "outputs": [
    {
     "data": {
      "text/plain": [
       "dtype('<M8[ns]')"
      ]
     },
     "execution_count": 11,
     "metadata": {},
     "output_type": "execute_result"
    }
   ],
   "source": [
    "# Se convierte la columna 'date' a datetime para facilitar su manipulación a Pycaret\n",
    "agrupado['date'] = pd.to_datetime(df['date'])\n",
    "agrupado['date'].dtype"
   ]
  },
  {
   "cell_type": "code",
   "execution_count": 12,
   "metadata": {},
   "outputs": [
    {
     "data": {
      "text/html": [
       "<style type=\"text/css\">\n",
       "#T_e59ae_row25_col1 {\n",
       "  background-color: lightgreen;\n",
       "}\n",
       "</style>\n",
       "<table id=\"T_e59ae\">\n",
       "  <thead>\n",
       "    <tr>\n",
       "      <th class=\"blank level0\" >&nbsp;</th>\n",
       "      <th id=\"T_e59ae_level0_col0\" class=\"col_heading level0 col0\" >Description</th>\n",
       "      <th id=\"T_e59ae_level0_col1\" class=\"col_heading level0 col1\" >Value</th>\n",
       "    </tr>\n",
       "  </thead>\n",
       "  <tbody>\n",
       "    <tr>\n",
       "      <th id=\"T_e59ae_level0_row0\" class=\"row_heading level0 row0\" >0</th>\n",
       "      <td id=\"T_e59ae_row0_col0\" class=\"data row0 col0\" >session_id</td>\n",
       "      <td id=\"T_e59ae_row0_col1\" class=\"data row0 col1\" >123</td>\n",
       "    </tr>\n",
       "    <tr>\n",
       "      <th id=\"T_e59ae_level0_row1\" class=\"row_heading level0 row1\" >1</th>\n",
       "      <td id=\"T_e59ae_row1_col0\" class=\"data row1 col0\" >Target</td>\n",
       "      <td id=\"T_e59ae_row1_col1\" class=\"data row1 col1\" >driver_pay</td>\n",
       "    </tr>\n",
       "    <tr>\n",
       "      <th id=\"T_e59ae_level0_row2\" class=\"row_heading level0 row2\" >2</th>\n",
       "      <td id=\"T_e59ae_row2_col0\" class=\"data row2 col0\" >Approach</td>\n",
       "      <td id=\"T_e59ae_row2_col1\" class=\"data row2 col1\" >Univariate</td>\n",
       "    </tr>\n",
       "    <tr>\n",
       "      <th id=\"T_e59ae_level0_row3\" class=\"row_heading level0 row3\" >3</th>\n",
       "      <td id=\"T_e59ae_row3_col0\" class=\"data row3 col0\" >Exogenous Variables</td>\n",
       "      <td id=\"T_e59ae_row3_col1\" class=\"data row3 col1\" >Present</td>\n",
       "    </tr>\n",
       "    <tr>\n",
       "      <th id=\"T_e59ae_level0_row4\" class=\"row_heading level0 row4\" >4</th>\n",
       "      <td id=\"T_e59ae_row4_col0\" class=\"data row4 col0\" >Original data shape</td>\n",
       "      <td id=\"T_e59ae_row4_col1\" class=\"data row4 col1\" >(31, 2)</td>\n",
       "    </tr>\n",
       "    <tr>\n",
       "      <th id=\"T_e59ae_level0_row5\" class=\"row_heading level0 row5\" >5</th>\n",
       "      <td id=\"T_e59ae_row5_col0\" class=\"data row5 col0\" >Transformed data shape</td>\n",
       "      <td id=\"T_e59ae_row5_col1\" class=\"data row5 col1\" >(31, 2)</td>\n",
       "    </tr>\n",
       "    <tr>\n",
       "      <th id=\"T_e59ae_level0_row6\" class=\"row_heading level0 row6\" >6</th>\n",
       "      <td id=\"T_e59ae_row6_col0\" class=\"data row6 col0\" >Transformed train set shape</td>\n",
       "      <td id=\"T_e59ae_row6_col1\" class=\"data row6 col1\" >(28, 2)</td>\n",
       "    </tr>\n",
       "    <tr>\n",
       "      <th id=\"T_e59ae_level0_row7\" class=\"row_heading level0 row7\" >7</th>\n",
       "      <td id=\"T_e59ae_row7_col0\" class=\"data row7 col0\" >Transformed test set shape</td>\n",
       "      <td id=\"T_e59ae_row7_col1\" class=\"data row7 col1\" >(3, 2)</td>\n",
       "    </tr>\n",
       "    <tr>\n",
       "      <th id=\"T_e59ae_level0_row8\" class=\"row_heading level0 row8\" >8</th>\n",
       "      <td id=\"T_e59ae_row8_col0\" class=\"data row8 col0\" >Rows with missing values</td>\n",
       "      <td id=\"T_e59ae_row8_col1\" class=\"data row8 col1\" >0.0%</td>\n",
       "    </tr>\n",
       "    <tr>\n",
       "      <th id=\"T_e59ae_level0_row9\" class=\"row_heading level0 row9\" >9</th>\n",
       "      <td id=\"T_e59ae_row9_col0\" class=\"data row9 col0\" >Fold Generator</td>\n",
       "      <td id=\"T_e59ae_row9_col1\" class=\"data row9 col1\" >ExpandingWindowSplitter</td>\n",
       "    </tr>\n",
       "    <tr>\n",
       "      <th id=\"T_e59ae_level0_row10\" class=\"row_heading level0 row10\" >10</th>\n",
       "      <td id=\"T_e59ae_row10_col0\" class=\"data row10 col0\" >Fold Number</td>\n",
       "      <td id=\"T_e59ae_row10_col1\" class=\"data row10 col1\" >5</td>\n",
       "    </tr>\n",
       "    <tr>\n",
       "      <th id=\"T_e59ae_level0_row11\" class=\"row_heading level0 row11\" >11</th>\n",
       "      <td id=\"T_e59ae_row11_col0\" class=\"data row11 col0\" >Enforce Prediction Interval</td>\n",
       "      <td id=\"T_e59ae_row11_col1\" class=\"data row11 col1\" >False</td>\n",
       "    </tr>\n",
       "    <tr>\n",
       "      <th id=\"T_e59ae_level0_row12\" class=\"row_heading level0 row12\" >12</th>\n",
       "      <td id=\"T_e59ae_row12_col0\" class=\"data row12 col0\" >Splits used for hyperparameters</td>\n",
       "      <td id=\"T_e59ae_row12_col1\" class=\"data row12 col1\" >all</td>\n",
       "    </tr>\n",
       "    <tr>\n",
       "      <th id=\"T_e59ae_level0_row13\" class=\"row_heading level0 row13\" >13</th>\n",
       "      <td id=\"T_e59ae_row13_col0\" class=\"data row13 col0\" >User Defined Seasonal Period(s)</td>\n",
       "      <td id=\"T_e59ae_row13_col1\" class=\"data row13 col1\" >D</td>\n",
       "    </tr>\n",
       "    <tr>\n",
       "      <th id=\"T_e59ae_level0_row14\" class=\"row_heading level0 row14\" >14</th>\n",
       "      <td id=\"T_e59ae_row14_col0\" class=\"data row14 col0\" >Ignore Seasonality Test</td>\n",
       "      <td id=\"T_e59ae_row14_col1\" class=\"data row14 col1\" >False</td>\n",
       "    </tr>\n",
       "    <tr>\n",
       "      <th id=\"T_e59ae_level0_row15\" class=\"row_heading level0 row15\" >15</th>\n",
       "      <td id=\"T_e59ae_row15_col0\" class=\"data row15 col0\" >Seasonality Detection Algo</td>\n",
       "      <td id=\"T_e59ae_row15_col1\" class=\"data row15 col1\" >user_defined</td>\n",
       "    </tr>\n",
       "    <tr>\n",
       "      <th id=\"T_e59ae_level0_row16\" class=\"row_heading level0 row16\" >16</th>\n",
       "      <td id=\"T_e59ae_row16_col0\" class=\"data row16 col0\" >Max Period to Consider</td>\n",
       "      <td id=\"T_e59ae_row16_col1\" class=\"data row16 col1\" >60</td>\n",
       "    </tr>\n",
       "    <tr>\n",
       "      <th id=\"T_e59ae_level0_row17\" class=\"row_heading level0 row17\" >17</th>\n",
       "      <td id=\"T_e59ae_row17_col0\" class=\"data row17 col0\" >Seasonal Period(s) Tested</td>\n",
       "      <td id=\"T_e59ae_row17_col1\" class=\"data row17 col1\" >[7]</td>\n",
       "    </tr>\n",
       "    <tr>\n",
       "      <th id=\"T_e59ae_level0_row18\" class=\"row_heading level0 row18\" >18</th>\n",
       "      <td id=\"T_e59ae_row18_col0\" class=\"data row18 col0\" >Significant Seasonal Period(s)</td>\n",
       "      <td id=\"T_e59ae_row18_col1\" class=\"data row18 col1\" >[7]</td>\n",
       "    </tr>\n",
       "    <tr>\n",
       "      <th id=\"T_e59ae_level0_row19\" class=\"row_heading level0 row19\" >19</th>\n",
       "      <td id=\"T_e59ae_row19_col0\" class=\"data row19 col0\" >Significant Seasonal Period(s) without Harmonics</td>\n",
       "      <td id=\"T_e59ae_row19_col1\" class=\"data row19 col1\" >[7]</td>\n",
       "    </tr>\n",
       "    <tr>\n",
       "      <th id=\"T_e59ae_level0_row20\" class=\"row_heading level0 row20\" >20</th>\n",
       "      <td id=\"T_e59ae_row20_col0\" class=\"data row20 col0\" >Remove Harmonics</td>\n",
       "      <td id=\"T_e59ae_row20_col1\" class=\"data row20 col1\" >False</td>\n",
       "    </tr>\n",
       "    <tr>\n",
       "      <th id=\"T_e59ae_level0_row21\" class=\"row_heading level0 row21\" >21</th>\n",
       "      <td id=\"T_e59ae_row21_col0\" class=\"data row21 col0\" >Harmonics Order Method</td>\n",
       "      <td id=\"T_e59ae_row21_col1\" class=\"data row21 col1\" >harmonic_max</td>\n",
       "    </tr>\n",
       "    <tr>\n",
       "      <th id=\"T_e59ae_level0_row22\" class=\"row_heading level0 row22\" >22</th>\n",
       "      <td id=\"T_e59ae_row22_col0\" class=\"data row22 col0\" >Num Seasonalities to Use</td>\n",
       "      <td id=\"T_e59ae_row22_col1\" class=\"data row22 col1\" >1</td>\n",
       "    </tr>\n",
       "    <tr>\n",
       "      <th id=\"T_e59ae_level0_row23\" class=\"row_heading level0 row23\" >23</th>\n",
       "      <td id=\"T_e59ae_row23_col0\" class=\"data row23 col0\" >All Seasonalities to Use</td>\n",
       "      <td id=\"T_e59ae_row23_col1\" class=\"data row23 col1\" >[7]</td>\n",
       "    </tr>\n",
       "    <tr>\n",
       "      <th id=\"T_e59ae_level0_row24\" class=\"row_heading level0 row24\" >24</th>\n",
       "      <td id=\"T_e59ae_row24_col0\" class=\"data row24 col0\" >Primary Seasonality</td>\n",
       "      <td id=\"T_e59ae_row24_col1\" class=\"data row24 col1\" >7</td>\n",
       "    </tr>\n",
       "    <tr>\n",
       "      <th id=\"T_e59ae_level0_row25\" class=\"row_heading level0 row25\" >25</th>\n",
       "      <td id=\"T_e59ae_row25_col0\" class=\"data row25 col0\" >Seasonality Present</td>\n",
       "      <td id=\"T_e59ae_row25_col1\" class=\"data row25 col1\" >True</td>\n",
       "    </tr>\n",
       "    <tr>\n",
       "      <th id=\"T_e59ae_level0_row26\" class=\"row_heading level0 row26\" >26</th>\n",
       "      <td id=\"T_e59ae_row26_col0\" class=\"data row26 col0\" >Seasonality Type</td>\n",
       "      <td id=\"T_e59ae_row26_col1\" class=\"data row26 col1\" >mul</td>\n",
       "    </tr>\n",
       "    <tr>\n",
       "      <th id=\"T_e59ae_level0_row27\" class=\"row_heading level0 row27\" >27</th>\n",
       "      <td id=\"T_e59ae_row27_col0\" class=\"data row27 col0\" >Target Strictly Positive</td>\n",
       "      <td id=\"T_e59ae_row27_col1\" class=\"data row27 col1\" >True</td>\n",
       "    </tr>\n",
       "    <tr>\n",
       "      <th id=\"T_e59ae_level0_row28\" class=\"row_heading level0 row28\" >28</th>\n",
       "      <td id=\"T_e59ae_row28_col0\" class=\"data row28 col0\" >Target White Noise</td>\n",
       "      <td id=\"T_e59ae_row28_col1\" class=\"data row28 col1\" >No</td>\n",
       "    </tr>\n",
       "    <tr>\n",
       "      <th id=\"T_e59ae_level0_row29\" class=\"row_heading level0 row29\" >29</th>\n",
       "      <td id=\"T_e59ae_row29_col0\" class=\"data row29 col0\" >Recommended d</td>\n",
       "      <td id=\"T_e59ae_row29_col1\" class=\"data row29 col1\" >0</td>\n",
       "    </tr>\n",
       "    <tr>\n",
       "      <th id=\"T_e59ae_level0_row30\" class=\"row_heading level0 row30\" >30</th>\n",
       "      <td id=\"T_e59ae_row30_col0\" class=\"data row30 col0\" >Recommended Seasonal D</td>\n",
       "      <td id=\"T_e59ae_row30_col1\" class=\"data row30 col1\" >1</td>\n",
       "    </tr>\n",
       "    <tr>\n",
       "      <th id=\"T_e59ae_level0_row31\" class=\"row_heading level0 row31\" >31</th>\n",
       "      <td id=\"T_e59ae_row31_col0\" class=\"data row31 col0\" >Preprocess</td>\n",
       "      <td id=\"T_e59ae_row31_col1\" class=\"data row31 col1\" >False</td>\n",
       "    </tr>\n",
       "    <tr>\n",
       "      <th id=\"T_e59ae_level0_row32\" class=\"row_heading level0 row32\" >32</th>\n",
       "      <td id=\"T_e59ae_row32_col0\" class=\"data row32 col0\" >CPU Jobs</td>\n",
       "      <td id=\"T_e59ae_row32_col1\" class=\"data row32 col1\" >-1</td>\n",
       "    </tr>\n",
       "    <tr>\n",
       "      <th id=\"T_e59ae_level0_row33\" class=\"row_heading level0 row33\" >33</th>\n",
       "      <td id=\"T_e59ae_row33_col0\" class=\"data row33 col0\" >Use GPU</td>\n",
       "      <td id=\"T_e59ae_row33_col1\" class=\"data row33 col1\" >False</td>\n",
       "    </tr>\n",
       "    <tr>\n",
       "      <th id=\"T_e59ae_level0_row34\" class=\"row_heading level0 row34\" >34</th>\n",
       "      <td id=\"T_e59ae_row34_col0\" class=\"data row34 col0\" >Log Experiment</td>\n",
       "      <td id=\"T_e59ae_row34_col1\" class=\"data row34 col1\" >False</td>\n",
       "    </tr>\n",
       "    <tr>\n",
       "      <th id=\"T_e59ae_level0_row35\" class=\"row_heading level0 row35\" >35</th>\n",
       "      <td id=\"T_e59ae_row35_col0\" class=\"data row35 col0\" >Experiment Name</td>\n",
       "      <td id=\"T_e59ae_row35_col1\" class=\"data row35 col1\" >ts-default-name</td>\n",
       "    </tr>\n",
       "    <tr>\n",
       "      <th id=\"T_e59ae_level0_row36\" class=\"row_heading level0 row36\" >36</th>\n",
       "      <td id=\"T_e59ae_row36_col0\" class=\"data row36 col0\" >USI</td>\n",
       "      <td id=\"T_e59ae_row36_col1\" class=\"data row36 col1\" >8d1b</td>\n",
       "    </tr>\n",
       "  </tbody>\n",
       "</table>\n"
      ],
      "text/plain": [
       "<pandas.io.formats.style.Styler at 0x1da8c4524d0>"
      ]
     },
     "metadata": {},
     "output_type": "display_data"
    }
   ],
   "source": [
    "# Se configura el entorno de Pycaret para el modelo de series temporales\n",
    "s = setup(agrupado,fh=3,fold=5,session_id=123,target='driver_pay',seasonal_period='D')"
   ]
  },
  {
   "cell_type": "code",
   "execution_count": 13,
   "metadata": {},
   "outputs": [
    {
     "data": {
      "text/html": [
       "<div>\n",
       "<style scoped>\n",
       "    .dataframe tbody tr th:only-of-type {\n",
       "        vertical-align: middle;\n",
       "    }\n",
       "\n",
       "    .dataframe tbody tr th {\n",
       "        vertical-align: top;\n",
       "    }\n",
       "\n",
       "    .dataframe thead th {\n",
       "        text-align: right;\n",
       "    }\n",
       "</style>\n",
       "<table border=\"1\" class=\"dataframe\">\n",
       "  <thead>\n",
       "    <tr style=\"text-align: right;\">\n",
       "      <th></th>\n",
       "      <th></th>\n",
       "      <th></th>\n",
       "    </tr>\n",
       "    <tr>\n",
       "      <th></th>\n",
       "      <th></th>\n",
       "      <th></th>\n",
       "    </tr>\n",
       "  </thead>\n",
       "  <tbody>\n",
       "    <tr>\n",
       "      <th>Initiated</th>\n",
       "      <td>. . . . . . . . . . . . . . . . . .</td>\n",
       "      <td>17:47:21</td>\n",
       "    </tr>\n",
       "    <tr>\n",
       "      <th>Status</th>\n",
       "      <td>. . . . . . . . . . . . . . . . . .</td>\n",
       "      <td>Selecting Estimator</td>\n",
       "    </tr>\n",
       "    <tr>\n",
       "      <th>Estimator</th>\n",
       "      <td>. . . . . . . . . . . . . . . . . .</td>\n",
       "      <td>Naive Forecaster</td>\n",
       "    </tr>\n",
       "  </tbody>\n",
       "</table>\n",
       "</div>"
      ],
      "text/plain": [
       "                                                                   \n",
       "                                                                   \n",
       "Initiated  . . . . . . . . . . . . . . . . . .             17:47:21\n",
       "Status     . . . . . . . . . . . . . . . . . .  Selecting Estimator\n",
       "Estimator  . . . . . . . . . . . . . . . . . .     Naive Forecaster"
      ]
     },
     "metadata": {},
     "output_type": "display_data"
    },
    {
     "data": {
      "text/html": [
       "<style type=\"text/css\">\n",
       "#T_ebf80 th {\n",
       "  text-align: left;\n",
       "}\n",
       "#T_ebf80_row0_col0, #T_ebf80_row0_col7, #T_ebf80_row1_col0, #T_ebf80_row1_col1, #T_ebf80_row1_col2, #T_ebf80_row1_col3, #T_ebf80_row1_col4, #T_ebf80_row1_col5, #T_ebf80_row1_col6, #T_ebf80_row2_col0, #T_ebf80_row2_col1, #T_ebf80_row2_col2, #T_ebf80_row2_col3, #T_ebf80_row2_col4, #T_ebf80_row2_col5, #T_ebf80_row2_col6, #T_ebf80_row2_col7, #T_ebf80_row3_col0, #T_ebf80_row3_col1, #T_ebf80_row3_col2, #T_ebf80_row3_col3, #T_ebf80_row3_col4, #T_ebf80_row3_col5, #T_ebf80_row3_col6, #T_ebf80_row3_col7, #T_ebf80_row4_col0, #T_ebf80_row4_col1, #T_ebf80_row4_col2, #T_ebf80_row4_col3, #T_ebf80_row4_col4, #T_ebf80_row4_col5, #T_ebf80_row4_col6, #T_ebf80_row4_col7 {\n",
       "  text-align: left;\n",
       "}\n",
       "#T_ebf80_row0_col1, #T_ebf80_row0_col2, #T_ebf80_row0_col3, #T_ebf80_row0_col4, #T_ebf80_row0_col5, #T_ebf80_row0_col6, #T_ebf80_row1_col7 {\n",
       "  text-align: left;\n",
       "  background-color: yellow;\n",
       "}\n",
       "#T_ebf80_row0_col8, #T_ebf80_row1_col8, #T_ebf80_row2_col8, #T_ebf80_row4_col8 {\n",
       "  text-align: left;\n",
       "  background-color: lightgrey;\n",
       "}\n",
       "#T_ebf80_row3_col8 {\n",
       "  text-align: left;\n",
       "  background-color: yellow;\n",
       "  background-color: lightgrey;\n",
       "}\n",
       "</style>\n",
       "<table id=\"T_ebf80\">\n",
       "  <thead>\n",
       "    <tr>\n",
       "      <th class=\"blank level0\" >&nbsp;</th>\n",
       "      <th id=\"T_ebf80_level0_col0\" class=\"col_heading level0 col0\" >Model</th>\n",
       "      <th id=\"T_ebf80_level0_col1\" class=\"col_heading level0 col1\" >MASE</th>\n",
       "      <th id=\"T_ebf80_level0_col2\" class=\"col_heading level0 col2\" >RMSSE</th>\n",
       "      <th id=\"T_ebf80_level0_col3\" class=\"col_heading level0 col3\" >MAE</th>\n",
       "      <th id=\"T_ebf80_level0_col4\" class=\"col_heading level0 col4\" >RMSE</th>\n",
       "      <th id=\"T_ebf80_level0_col5\" class=\"col_heading level0 col5\" >MAPE</th>\n",
       "      <th id=\"T_ebf80_level0_col6\" class=\"col_heading level0 col6\" >SMAPE</th>\n",
       "      <th id=\"T_ebf80_level0_col7\" class=\"col_heading level0 col7\" >R2</th>\n",
       "      <th id=\"T_ebf80_level0_col8\" class=\"col_heading level0 col8\" >TT (Sec)</th>\n",
       "    </tr>\n",
       "  </thead>\n",
       "  <tbody>\n",
       "    <tr>\n",
       "      <th id=\"T_ebf80_level0_row0\" class=\"row_heading level0 row0\" >snaive</th>\n",
       "      <td id=\"T_ebf80_row0_col0\" class=\"data row0 col0\" >Seasonal Naive Forecaster</td>\n",
       "      <td id=\"T_ebf80_row0_col1\" class=\"data row0 col1\" >0.4134</td>\n",
       "      <td id=\"T_ebf80_row0_col2\" class=\"data row0 col2\" >0.3340</td>\n",
       "      <td id=\"T_ebf80_row0_col3\" class=\"data row0 col3\" >18541.5960</td>\n",
       "      <td id=\"T_ebf80_row0_col4\" class=\"data row0 col4\" >20334.5698</td>\n",
       "      <td id=\"T_ebf80_row0_col5\" class=\"data row0 col5\" >0.0300</td>\n",
       "      <td id=\"T_ebf80_row0_col6\" class=\"data row0 col6\" >0.0303</td>\n",
       "      <td id=\"T_ebf80_row0_col7\" class=\"data row0 col7\" >-0.4647</td>\n",
       "      <td id=\"T_ebf80_row0_col8\" class=\"data row0 col8\" >1.5720</td>\n",
       "    </tr>\n",
       "    <tr>\n",
       "      <th id=\"T_ebf80_level0_row1\" class=\"row_heading level0 row1\" >stlf</th>\n",
       "      <td id=\"T_ebf80_row1_col0\" class=\"data row1 col0\" >STLF</td>\n",
       "      <td id=\"T_ebf80_row1_col1\" class=\"data row1 col1\" >0.4654</td>\n",
       "      <td id=\"T_ebf80_row1_col2\" class=\"data row1 col2\" >0.3778</td>\n",
       "      <td id=\"T_ebf80_row1_col3\" class=\"data row1 col3\" >19488.0511</td>\n",
       "      <td id=\"T_ebf80_row1_col4\" class=\"data row1 col4\" >21623.5163</td>\n",
       "      <td id=\"T_ebf80_row1_col5\" class=\"data row1 col5\" >0.0315</td>\n",
       "      <td id=\"T_ebf80_row1_col6\" class=\"data row1 col6\" >0.0309</td>\n",
       "      <td id=\"T_ebf80_row1_col7\" class=\"data row1 col7\" >0.3847</td>\n",
       "      <td id=\"T_ebf80_row1_col8\" class=\"data row1 col8\" >0.0600</td>\n",
       "    </tr>\n",
       "    <tr>\n",
       "      <th id=\"T_ebf80_level0_row2\" class=\"row_heading level0 row2\" >grand_means</th>\n",
       "      <td id=\"T_ebf80_row2_col0\" class=\"data row2 col0\" >Grand Means Forecaster</td>\n",
       "      <td id=\"T_ebf80_row2_col1\" class=\"data row2 col1\" >1.1109</td>\n",
       "      <td id=\"T_ebf80_row2_col2\" class=\"data row2 col2\" >0.9254</td>\n",
       "      <td id=\"T_ebf80_row2_col3\" class=\"data row2 col3\" >49375.3568</td>\n",
       "      <td id=\"T_ebf80_row2_col4\" class=\"data row2 col4\" >55664.9283</td>\n",
       "      <td id=\"T_ebf80_row2_col5\" class=\"data row2 col5\" >0.0795</td>\n",
       "      <td id=\"T_ebf80_row2_col6\" class=\"data row2 col6\" >0.0812</td>\n",
       "      <td id=\"T_ebf80_row2_col7\" class=\"data row2 col7\" >-5.2751</td>\n",
       "      <td id=\"T_ebf80_row2_col8\" class=\"data row2 col8\" >1.5800</td>\n",
       "    </tr>\n",
       "    <tr>\n",
       "      <th id=\"T_ebf80_level0_row3\" class=\"row_heading level0 row3\" >croston</th>\n",
       "      <td id=\"T_ebf80_row3_col0\" class=\"data row3 col0\" >Croston</td>\n",
       "      <td id=\"T_ebf80_row3_col1\" class=\"data row3 col1\" >1.1126</td>\n",
       "      <td id=\"T_ebf80_row3_col2\" class=\"data row3 col2\" >0.9605</td>\n",
       "      <td id=\"T_ebf80_row3_col3\" class=\"data row3 col3\" >51107.5211</td>\n",
       "      <td id=\"T_ebf80_row3_col4\" class=\"data row3 col4\" >58983.2346</td>\n",
       "      <td id=\"T_ebf80_row3_col5\" class=\"data row3 col5\" >0.0847</td>\n",
       "      <td id=\"T_ebf80_row3_col6\" class=\"data row3 col6\" >0.0840</td>\n",
       "      <td id=\"T_ebf80_row3_col7\" class=\"data row3 col7\" >-13.2604</td>\n",
       "      <td id=\"T_ebf80_row3_col8\" class=\"data row3 col8\" >0.0260</td>\n",
       "    </tr>\n",
       "    <tr>\n",
       "      <th id=\"T_ebf80_level0_row4\" class=\"row_heading level0 row4\" >naive</th>\n",
       "      <td id=\"T_ebf80_row4_col0\" class=\"data row4 col0\" >Naive Forecaster</td>\n",
       "      <td id=\"T_ebf80_row4_col1\" class=\"data row4 col1\" >2.1089</td>\n",
       "      <td id=\"T_ebf80_row4_col2\" class=\"data row4 col2\" >1.6852</td>\n",
       "      <td id=\"T_ebf80_row4_col3\" class=\"data row4 col3\" >97324.4440</td>\n",
       "      <td id=\"T_ebf80_row4_col4\" class=\"data row4 col4\" >103947.2554</td>\n",
       "      <td id=\"T_ebf80_row4_col5\" class=\"data row4 col5\" >0.1642</td>\n",
       "      <td id=\"T_ebf80_row4_col6\" class=\"data row4 col6\" >0.1571</td>\n",
       "      <td id=\"T_ebf80_row4_col7\" class=\"data row4 col7\" >-40.4423</td>\n",
       "      <td id=\"T_ebf80_row4_col8\" class=\"data row4 col8\" >1.9320</td>\n",
       "    </tr>\n",
       "  </tbody>\n",
       "</table>\n"
      ],
      "text/plain": [
       "<pandas.io.formats.style.Styler at 0x1da8f7a6dd0>"
      ]
     },
     "metadata": {},
     "output_type": "display_data"
    },
    {
     "data": {
      "text/html": [],
      "text/plain": [
       "<IPython.core.display.HTML object>"
      ]
     },
     "metadata": {},
     "output_type": "display_data"
    }
   ],
   "source": [
    "# Se comparan los modelos en la función y el mejor modelo queda guardado en la varibale 'best'\n",
    "best = compare_models()"
   ]
  },
  {
   "cell_type": "code",
   "execution_count": 14,
   "metadata": {},
   "outputs": [
    {
     "data": {
      "text/html": [
       "<style>#sk-d733a6aa-6b9f-4baa-acc8-646d5b37ca3c {color: black;background-color: white;}#sk-d733a6aa-6b9f-4baa-acc8-646d5b37ca3c pre{padding: 0;}#sk-d733a6aa-6b9f-4baa-acc8-646d5b37ca3c div.sk-toggleable {background-color: white;}#sk-d733a6aa-6b9f-4baa-acc8-646d5b37ca3c label.sk-toggleable__label {cursor: pointer;display: block;width: 100%;margin-bottom: 0;padding: 0.3em;box-sizing: border-box;text-align: center;}#sk-d733a6aa-6b9f-4baa-acc8-646d5b37ca3c label.sk-toggleable__label-arrow:before {content: \"▸\";float: left;margin-right: 0.25em;color: #696969;}#sk-d733a6aa-6b9f-4baa-acc8-646d5b37ca3c label.sk-toggleable__label-arrow:hover:before {color: black;}#sk-d733a6aa-6b9f-4baa-acc8-646d5b37ca3c div.sk-estimator:hover label.sk-toggleable__label-arrow:before {color: black;}#sk-d733a6aa-6b9f-4baa-acc8-646d5b37ca3c div.sk-toggleable__content {max-height: 0;max-width: 0;overflow: hidden;text-align: left;background-color: #f0f8ff;}#sk-d733a6aa-6b9f-4baa-acc8-646d5b37ca3c div.sk-toggleable__content pre {margin: 0.2em;color: black;border-radius: 0.25em;background-color: #f0f8ff;}#sk-d733a6aa-6b9f-4baa-acc8-646d5b37ca3c input.sk-toggleable__control:checked~div.sk-toggleable__content {max-height: 200px;max-width: 100%;overflow: auto;}#sk-d733a6aa-6b9f-4baa-acc8-646d5b37ca3c input.sk-toggleable__control:checked~label.sk-toggleable__label-arrow:before {content: \"▾\";}#sk-d733a6aa-6b9f-4baa-acc8-646d5b37ca3c div.sk-estimator input.sk-toggleable__control:checked~label.sk-toggleable__label {background-color: #d4ebff;}#sk-d733a6aa-6b9f-4baa-acc8-646d5b37ca3c div.sk-label input.sk-toggleable__control:checked~label.sk-toggleable__label {background-color: #d4ebff;}#sk-d733a6aa-6b9f-4baa-acc8-646d5b37ca3c input.sk-hidden--visually {border: 0;clip: rect(1px 1px 1px 1px);clip: rect(1px, 1px, 1px, 1px);height: 1px;margin: -1px;overflow: hidden;padding: 0;position: absolute;width: 1px;}#sk-d733a6aa-6b9f-4baa-acc8-646d5b37ca3c div.sk-estimator {font-family: monospace;background-color: #f0f8ff;border: 1px dotted black;border-radius: 0.25em;box-sizing: border-box;margin-bottom: 0.5em;}#sk-d733a6aa-6b9f-4baa-acc8-646d5b37ca3c div.sk-estimator:hover {background-color: #d4ebff;}#sk-d733a6aa-6b9f-4baa-acc8-646d5b37ca3c div.sk-parallel-item::after {content: \"\";width: 100%;border-bottom: 1px solid gray;flex-grow: 1;}#sk-d733a6aa-6b9f-4baa-acc8-646d5b37ca3c div.sk-label:hover label.sk-toggleable__label {background-color: #d4ebff;}#sk-d733a6aa-6b9f-4baa-acc8-646d5b37ca3c div.sk-serial::before {content: \"\";position: absolute;border-left: 1px solid gray;box-sizing: border-box;top: 2em;bottom: 0;left: 50%;}#sk-d733a6aa-6b9f-4baa-acc8-646d5b37ca3c div.sk-serial {display: flex;flex-direction: column;align-items: center;background-color: white;padding-right: 0.2em;padding-left: 0.2em;}#sk-d733a6aa-6b9f-4baa-acc8-646d5b37ca3c div.sk-item {z-index: 1;}#sk-d733a6aa-6b9f-4baa-acc8-646d5b37ca3c div.sk-parallel {display: flex;align-items: stretch;justify-content: center;background-color: white;}#sk-d733a6aa-6b9f-4baa-acc8-646d5b37ca3c div.sk-parallel::before {content: \"\";position: absolute;border-left: 1px solid gray;box-sizing: border-box;top: 2em;bottom: 0;left: 50%;}#sk-d733a6aa-6b9f-4baa-acc8-646d5b37ca3c div.sk-parallel-item {display: flex;flex-direction: column;position: relative;background-color: white;}#sk-d733a6aa-6b9f-4baa-acc8-646d5b37ca3c div.sk-parallel-item:first-child::after {align-self: flex-end;width: 50%;}#sk-d733a6aa-6b9f-4baa-acc8-646d5b37ca3c div.sk-parallel-item:last-child::after {align-self: flex-start;width: 50%;}#sk-d733a6aa-6b9f-4baa-acc8-646d5b37ca3c div.sk-parallel-item:only-child::after {width: 0;}#sk-d733a6aa-6b9f-4baa-acc8-646d5b37ca3c div.sk-dashed-wrapped {border: 1px dashed gray;margin: 0 0.4em 0.5em 0.4em;box-sizing: border-box;padding-bottom: 0.4em;background-color: white;position: relative;}#sk-d733a6aa-6b9f-4baa-acc8-646d5b37ca3c div.sk-label label {font-family: monospace;font-weight: bold;background-color: white;display: inline-block;line-height: 1.2em;}#sk-d733a6aa-6b9f-4baa-acc8-646d5b37ca3c div.sk-label-container {position: relative;z-index: 2;text-align: center;}#sk-d733a6aa-6b9f-4baa-acc8-646d5b37ca3c div.sk-container {/* jupyter's `normalize.less` sets `[hidden] { display: none; }` but bootstrap.min.css set `[hidden] { display: none !important; }` so we also need the `!important` here to be able to override the default hidden behavior on the sphinx rendered scikit-learn.org. See: https://github.com/scikit-learn/scikit-learn/issues/21755 */display: inline-block !important;position: relative;}#sk-d733a6aa-6b9f-4baa-acc8-646d5b37ca3c div.sk-text-repr-fallback {display: none;}</style><div id='sk-d733a6aa-6b9f-4baa-acc8-646d5b37ca3c' class=\"sk-top-container\"><div class=\"sk-text-repr-fallback\"><pre>NaiveForecaster(sp=7)</pre><b>Please rerun this cell to show the HTML repr or trust the notebook.</b></div><div class=\"sk-container\" hidden><div class='sk-item'><div class=\"sk-estimator sk-toggleable\"><input class=\"sk-toggleable__control sk-hidden--visually\" id=UUID('f3f61ab8-8e63-4238-9fef-f566ab8aa2f2') type=\"checkbox\" checked><label for=UUID('f3f61ab8-8e63-4238-9fef-f566ab8aa2f2') class='sk-toggleable__label sk-toggleable__label-arrow'>NaiveForecaster</label><div class=\"sk-toggleable__content\"><pre>NaiveForecaster(sp=7)</pre></div></div></div></div></div>"
      ],
      "text/plain": [
       "NaiveForecaster(sp=7)"
      ]
     },
     "execution_count": 14,
     "metadata": {},
     "output_type": "execute_result"
    }
   ],
   "source": [
    "# Se visualiza el mejor modelo que se encuentra en la variable\n",
    "best"
   ]
  },
  {
   "cell_type": "code",
   "execution_count": 15,
   "metadata": {},
   "outputs": [
    {
     "data": {
      "application/vnd.plotly.v1+json": {
       "config": {
        "plotlyServerURL": "https://plot.ly"
       },
       "data": [
        {
         "line": {
          "color": "#1f77b4"
         },
         "marker": {
          "size": 5
         },
         "mode": "lines+markers",
         "name": "Forecast | Seasonal Naive Forecaster",
         "showlegend": true,
         "type": "scatter",
         "x": [
          28,
          29,
          30,
          31,
          32,
          33,
          34,
          35,
          36,
          37
         ],
         "y": [
          549469.61,
          575744.38,
          605668.98,
          658273.42,
          693172.03,
          614001.59,
          546434.41,
          549469.61,
          575744.38,
          605668.98
         ]
        },
        {
         "line": {
          "width": 0
         },
         "marker": {
          "color": "#68BBE3"
         },
         "mode": "lines",
         "name": "Lower Interval",
         "showlegend": false,
         "type": "scatter",
         "x": [
          28,
          29,
          30,
          31,
          32,
          33,
          34,
          35,
          36,
          37
         ],
         "y": [
          472775.999,
          499050.769,
          528975.369,
          581579.809,
          616478.419,
          537307.979,
          469740.799,
          441008.4652,
          467283.2352,
          497207.8352
         ]
        },
        {
         "fill": "tonexty",
         "fillcolor": "rgba(104,187,227,0.5)",
         "line": {
          "width": 0
         },
         "marker": {
          "color": "#68BBE3"
         },
         "mode": "lines",
         "name": "Prediction Interval | Seasonal Naive Forecaster",
         "showlegend": true,
         "type": "scatter",
         "x": [
          28,
          29,
          30,
          31,
          32,
          33,
          34,
          35,
          36,
          37
         ],
         "y": [
          626163.221,
          652437.991,
          682362.591,
          734967.031,
          769865.641,
          690695.201,
          623128.021,
          657930.7548,
          684205.5248,
          714130.1248
         ]
        },
        {
         "marker": {
          "color": "#3f3f3f",
          "size": 5
         },
         "mode": "lines+markers",
         "name": "Original",
         "showlegend": true,
         "type": "scatter",
         "x": [
          0,
          1,
          2,
          3,
          4,
          5,
          6,
          7,
          8,
          9,
          10,
          11,
          12,
          13,
          14,
          15,
          16,
          17,
          18,
          19,
          20,
          21,
          22,
          23,
          24,
          25,
          26,
          27,
          28,
          29,
          30
         ],
         "y": [
          660662.56,
          534783.42,
          592182.34,
          568249.25,
          583199.83,
          574170.9,
          529814.55,
          531849.7,
          548942.45,
          582127.23,
          618977.91,
          696237.88,
          657224.94,
          543544.02,
          562198.75,
          555431.84,
          615021.35,
          641387.03,
          724936.24,
          632963.16,
          540346,
          549469.61,
          575744.38,
          605668.98,
          658273.42,
          693172.03,
          614001.59,
          546434.41,
          537399.5,
          550198.45,
          626085.32
         ]
        }
       ],
       "layout": {
        "showlegend": true,
        "template": {
         "data": {
          "bar": [
           {
            "error_x": {
             "color": "rgb(51,51,51)"
            },
            "error_y": {
             "color": "rgb(51,51,51)"
            },
            "marker": {
             "line": {
              "color": "rgb(237,237,237)",
              "width": 0.5
             },
             "pattern": {
              "fillmode": "overlay",
              "size": 10,
              "solidity": 0.2
             }
            },
            "type": "bar"
           }
          ],
          "barpolar": [
           {
            "marker": {
             "line": {
              "color": "rgb(237,237,237)",
              "width": 0.5
             },
             "pattern": {
              "fillmode": "overlay",
              "size": 10,
              "solidity": 0.2
             }
            },
            "type": "barpolar"
           }
          ],
          "carpet": [
           {
            "aaxis": {
             "endlinecolor": "rgb(51,51,51)",
             "gridcolor": "white",
             "linecolor": "white",
             "minorgridcolor": "white",
             "startlinecolor": "rgb(51,51,51)"
            },
            "baxis": {
             "endlinecolor": "rgb(51,51,51)",
             "gridcolor": "white",
             "linecolor": "white",
             "minorgridcolor": "white",
             "startlinecolor": "rgb(51,51,51)"
            },
            "type": "carpet"
           }
          ],
          "choropleth": [
           {
            "colorbar": {
             "outlinewidth": 0,
             "tickcolor": "rgb(237,237,237)",
             "ticklen": 6,
             "ticks": "inside"
            },
            "type": "choropleth"
           }
          ],
          "contour": [
           {
            "colorbar": {
             "outlinewidth": 0,
             "tickcolor": "rgb(237,237,237)",
             "ticklen": 6,
             "ticks": "inside"
            },
            "colorscale": [
             [
              0,
              "rgb(20,44,66)"
             ],
             [
              1,
              "rgb(90,179,244)"
             ]
            ],
            "type": "contour"
           }
          ],
          "contourcarpet": [
           {
            "colorbar": {
             "outlinewidth": 0,
             "tickcolor": "rgb(237,237,237)",
             "ticklen": 6,
             "ticks": "inside"
            },
            "type": "contourcarpet"
           }
          ],
          "heatmap": [
           {
            "colorbar": {
             "outlinewidth": 0,
             "tickcolor": "rgb(237,237,237)",
             "ticklen": 6,
             "ticks": "inside"
            },
            "colorscale": [
             [
              0,
              "rgb(20,44,66)"
             ],
             [
              1,
              "rgb(90,179,244)"
             ]
            ],
            "type": "heatmap"
           }
          ],
          "heatmapgl": [
           {
            "colorbar": {
             "outlinewidth": 0,
             "tickcolor": "rgb(237,237,237)",
             "ticklen": 6,
             "ticks": "inside"
            },
            "colorscale": [
             [
              0,
              "rgb(20,44,66)"
             ],
             [
              1,
              "rgb(90,179,244)"
             ]
            ],
            "type": "heatmapgl"
           }
          ],
          "histogram": [
           {
            "marker": {
             "pattern": {
              "fillmode": "overlay",
              "size": 10,
              "solidity": 0.2
             }
            },
            "type": "histogram"
           }
          ],
          "histogram2d": [
           {
            "colorbar": {
             "outlinewidth": 0,
             "tickcolor": "rgb(237,237,237)",
             "ticklen": 6,
             "ticks": "inside"
            },
            "colorscale": [
             [
              0,
              "rgb(20,44,66)"
             ],
             [
              1,
              "rgb(90,179,244)"
             ]
            ],
            "type": "histogram2d"
           }
          ],
          "histogram2dcontour": [
           {
            "colorbar": {
             "outlinewidth": 0,
             "tickcolor": "rgb(237,237,237)",
             "ticklen": 6,
             "ticks": "inside"
            },
            "colorscale": [
             [
              0,
              "rgb(20,44,66)"
             ],
             [
              1,
              "rgb(90,179,244)"
             ]
            ],
            "type": "histogram2dcontour"
           }
          ],
          "mesh3d": [
           {
            "colorbar": {
             "outlinewidth": 0,
             "tickcolor": "rgb(237,237,237)",
             "ticklen": 6,
             "ticks": "inside"
            },
            "type": "mesh3d"
           }
          ],
          "parcoords": [
           {
            "line": {
             "colorbar": {
              "outlinewidth": 0,
              "tickcolor": "rgb(237,237,237)",
              "ticklen": 6,
              "ticks": "inside"
             }
            },
            "type": "parcoords"
           }
          ],
          "pie": [
           {
            "automargin": true,
            "type": "pie"
           }
          ],
          "scatter": [
           {
            "fillpattern": {
             "fillmode": "overlay",
             "size": 10,
             "solidity": 0.2
            },
            "type": "scatter"
           }
          ],
          "scatter3d": [
           {
            "line": {
             "colorbar": {
              "outlinewidth": 0,
              "tickcolor": "rgb(237,237,237)",
              "ticklen": 6,
              "ticks": "inside"
             }
            },
            "marker": {
             "colorbar": {
              "outlinewidth": 0,
              "tickcolor": "rgb(237,237,237)",
              "ticklen": 6,
              "ticks": "inside"
             }
            },
            "type": "scatter3d"
           }
          ],
          "scattercarpet": [
           {
            "marker": {
             "colorbar": {
              "outlinewidth": 0,
              "tickcolor": "rgb(237,237,237)",
              "ticklen": 6,
              "ticks": "inside"
             }
            },
            "type": "scattercarpet"
           }
          ],
          "scattergeo": [
           {
            "marker": {
             "colorbar": {
              "outlinewidth": 0,
              "tickcolor": "rgb(237,237,237)",
              "ticklen": 6,
              "ticks": "inside"
             }
            },
            "type": "scattergeo"
           }
          ],
          "scattergl": [
           {
            "marker": {
             "colorbar": {
              "outlinewidth": 0,
              "tickcolor": "rgb(237,237,237)",
              "ticklen": 6,
              "ticks": "inside"
             }
            },
            "type": "scattergl"
           }
          ],
          "scattermapbox": [
           {
            "marker": {
             "colorbar": {
              "outlinewidth": 0,
              "tickcolor": "rgb(237,237,237)",
              "ticklen": 6,
              "ticks": "inside"
             }
            },
            "type": "scattermapbox"
           }
          ],
          "scatterpolar": [
           {
            "marker": {
             "colorbar": {
              "outlinewidth": 0,
              "tickcolor": "rgb(237,237,237)",
              "ticklen": 6,
              "ticks": "inside"
             }
            },
            "type": "scatterpolar"
           }
          ],
          "scatterpolargl": [
           {
            "marker": {
             "colorbar": {
              "outlinewidth": 0,
              "tickcolor": "rgb(237,237,237)",
              "ticklen": 6,
              "ticks": "inside"
             }
            },
            "type": "scatterpolargl"
           }
          ],
          "scatterternary": [
           {
            "marker": {
             "colorbar": {
              "outlinewidth": 0,
              "tickcolor": "rgb(237,237,237)",
              "ticklen": 6,
              "ticks": "inside"
             }
            },
            "type": "scatterternary"
           }
          ],
          "surface": [
           {
            "colorbar": {
             "outlinewidth": 0,
             "tickcolor": "rgb(237,237,237)",
             "ticklen": 6,
             "ticks": "inside"
            },
            "colorscale": [
             [
              0,
              "rgb(20,44,66)"
             ],
             [
              1,
              "rgb(90,179,244)"
             ]
            ],
            "type": "surface"
           }
          ],
          "table": [
           {
            "cells": {
             "fill": {
              "color": "rgb(237,237,237)"
             },
             "line": {
              "color": "white"
             }
            },
            "header": {
             "fill": {
              "color": "rgb(217,217,217)"
             },
             "line": {
              "color": "white"
             }
            },
            "type": "table"
           }
          ]
         },
         "layout": {
          "annotationdefaults": {
           "arrowhead": 0,
           "arrowwidth": 1
          },
          "autotypenumbers": "strict",
          "coloraxis": {
           "colorbar": {
            "outlinewidth": 0,
            "tickcolor": "rgb(237,237,237)",
            "ticklen": 6,
            "ticks": "inside"
           }
          },
          "colorscale": {
           "sequential": [
            [
             0,
             "rgb(20,44,66)"
            ],
            [
             1,
             "rgb(90,179,244)"
            ]
           ],
           "sequentialminus": [
            [
             0,
             "rgb(20,44,66)"
            ],
            [
             1,
             "rgb(90,179,244)"
            ]
           ]
          },
          "colorway": [
           "#F8766D",
           "#A3A500",
           "#00BF7D",
           "#00B0F6",
           "#E76BF3"
          ],
          "font": {
           "color": "rgb(51,51,51)"
          },
          "geo": {
           "bgcolor": "white",
           "lakecolor": "white",
           "landcolor": "rgb(237,237,237)",
           "showlakes": true,
           "showland": true,
           "subunitcolor": "white"
          },
          "hoverlabel": {
           "align": "left"
          },
          "hovermode": "closest",
          "paper_bgcolor": "white",
          "plot_bgcolor": "rgb(237,237,237)",
          "polar": {
           "angularaxis": {
            "gridcolor": "white",
            "linecolor": "white",
            "showgrid": true,
            "tickcolor": "rgb(51,51,51)",
            "ticks": "outside"
           },
           "bgcolor": "rgb(237,237,237)",
           "radialaxis": {
            "gridcolor": "white",
            "linecolor": "white",
            "showgrid": true,
            "tickcolor": "rgb(51,51,51)",
            "ticks": "outside"
           }
          },
          "scene": {
           "xaxis": {
            "backgroundcolor": "rgb(237,237,237)",
            "gridcolor": "white",
            "gridwidth": 2,
            "linecolor": "white",
            "showbackground": true,
            "showgrid": true,
            "tickcolor": "rgb(51,51,51)",
            "ticks": "outside",
            "zerolinecolor": "white"
           },
           "yaxis": {
            "backgroundcolor": "rgb(237,237,237)",
            "gridcolor": "white",
            "gridwidth": 2,
            "linecolor": "white",
            "showbackground": true,
            "showgrid": true,
            "tickcolor": "rgb(51,51,51)",
            "ticks": "outside",
            "zerolinecolor": "white"
           },
           "zaxis": {
            "backgroundcolor": "rgb(237,237,237)",
            "gridcolor": "white",
            "gridwidth": 2,
            "linecolor": "white",
            "showbackground": true,
            "showgrid": true,
            "tickcolor": "rgb(51,51,51)",
            "ticks": "outside",
            "zerolinecolor": "white"
           }
          },
          "shapedefaults": {
           "fillcolor": "black",
           "line": {
            "width": 0
           },
           "opacity": 0.3
          },
          "ternary": {
           "aaxis": {
            "gridcolor": "white",
            "linecolor": "white",
            "showgrid": true,
            "tickcolor": "rgb(51,51,51)",
            "ticks": "outside"
           },
           "baxis": {
            "gridcolor": "white",
            "linecolor": "white",
            "showgrid": true,
            "tickcolor": "rgb(51,51,51)",
            "ticks": "outside"
           },
           "bgcolor": "rgb(237,237,237)",
           "caxis": {
            "gridcolor": "white",
            "linecolor": "white",
            "showgrid": true,
            "tickcolor": "rgb(51,51,51)",
            "ticks": "outside"
           }
          },
          "xaxis": {
           "automargin": true,
           "gridcolor": "white",
           "linecolor": "white",
           "showgrid": true,
           "tickcolor": "rgb(51,51,51)",
           "ticks": "outside",
           "title": {
            "standoff": 15
           },
           "zerolinecolor": "white"
          },
          "yaxis": {
           "automargin": true,
           "gridcolor": "white",
           "linecolor": "white",
           "showgrid": true,
           "tickcolor": "rgb(51,51,51)",
           "ticks": "outside",
           "title": {
            "standoff": 15
           },
           "zerolinecolor": "white"
          }
         }
        },
        "title": {
         "text": "Actual vs. 'Out-of-Sample' Forecast | driver_pay"
        },
        "xaxis": {
         "title": {
          "text": "Time"
         }
        },
        "yaxis": {
         "title": {
          "text": "Values"
         }
        }
       }
      }
     },
     "metadata": {},
     "output_type": "display_data"
    }
   ],
   "source": [
    "# Visualizacion de los resultados: gráfico de pronóstico\n",
    "plot_model(best,plot='forecast',data_kwargs={'fh':10})"
   ]
  },
  {
   "cell_type": "code",
   "execution_count": 16,
   "metadata": {},
   "outputs": [
    {
     "data": {
      "application/vnd.plotly.v1+json": {
       "config": {
        "plotlyServerURL": "https://plot.ly"
       },
       "data": [
        {
         "line": {
          "color": "rgb(31, 119, 180)",
          "width": 2
         },
         "marker": {
          "color": "rgb(31, 119, 180)",
          "size": 5
         },
         "mode": "lines+markers",
         "name": "Seasonal Naive Forecaster",
         "showlegend": false,
         "type": "scattergl",
         "x": [
          0,
          1,
          2,
          3,
          4,
          5,
          6,
          7,
          8,
          9,
          10,
          11,
          12,
          13,
          14,
          15,
          16,
          17,
          18,
          19,
          20,
          21,
          22,
          23,
          24,
          25,
          26,
          27
         ],
         "xaxis": "x",
         "y": [
          0,
          0,
          0,
          0,
          0,
          0,
          0,
          -128812.8600000001,
          14159.029999999912,
          -10055.109999999986,
          50728.66000000003,
          113038.05000000005,
          83054.03999999992,
          13729.469999999972,
          30349.050000000047,
          6489.390000000014,
          32894.119999999995,
          22409.119999999995,
          28698.359999999986,
          -24261.77999999991,
          -3198.0200000000186,
          -12729.140000000014,
          20312.540000000037,
          -9352.369999999995,
          16886.390000000014,
          -31764.209999999963,
          -18961.570000000065,
          6088.410000000033
         ],
         "yaxis": "y"
        },
        {
         "hoverinfo": "text",
         "hovertext": [
          "Freq: 0.0357<br>Ampl: 100.618<br>Time period: 28.0",
          "Freq: 0.0714<br>Ampl: 100.3688<br>Time period: 14.0",
          "Freq: 0.1071<br>Ampl: 97.5076<br>Time period: 9.3333",
          "Freq: 0.1429<br>Ampl: 98.5017<br>Time period: 7.0",
          "Freq: 0.1786<br>Ampl: 98.0969<br>Time period: 5.6",
          "Freq: 0.2143<br>Ampl: 91.8902<br>Time period: 4.6667",
          "Freq: 0.25<br>Ampl: 84.7493<br>Time period: 4.0",
          "Freq: 0.2857<br>Ampl: 90.2201<br>Time period: 3.5",
          "Freq: 0.3214<br>Ampl: 93.7445<br>Time period: 3.1111",
          "Freq: 0.3571<br>Ampl: 92.3842<br>Time period: 2.8",
          "Freq: 0.3929<br>Ampl: 89.1695<br>Time period: 2.5455",
          "Freq: 0.4286<br>Ampl: 83.0177<br>Time period: 2.3333",
          "Freq: 0.4643<br>Ampl: 89.8748<br>Time period: 2.1538",
          "Freq: 0.5<br>Ampl: 93.2588<br>Time period: 2.0"
         ],
         "line": {
          "color": "#1f77b4",
          "width": 2
         },
         "marker": {
          "size": 5
         },
         "mode": "lines+markers",
         "name": "Seasonal Naive Forecaster",
         "showlegend": false,
         "type": "scattergl",
         "x": [
          0.03571428571428571,
          0.07142857142857142,
          0.10714285714285714,
          0.14285714285714285,
          0.17857142857142855,
          0.21428571428571427,
          0.25,
          0.2857142857142857,
          0.3214285714285714,
          0.3571428571428571,
          0.39285714285714285,
          0.42857142857142855,
          0.46428571428571425,
          0.5
         ],
         "xaxis": "x2",
         "y": [
          100.61803177296491,
          100.36878564138863,
          97.50759047802748,
          98.50173191852853,
          98.09687780391891,
          91.8901909435084,
          84.74929392642832,
          90.22005827741114,
          93.7445483444416,
          92.38424421638734,
          89.1695041595264,
          83.01774854588244,
          89.87482940172714,
          93.25882641129567
         ],
         "yaxis": "y2"
        },
        {
         "alignmentgroup": "True",
         "bingroup": "x",
         "hovertemplate": "variable=Seasonal Naive Forecaster<br>value=%{x}<br>count=%{y}<extra></extra>",
         "legendgroup": "Seasonal Naive Forecaster",
         "marker": {
          "color": "#1f77b4",
          "pattern": {
           "shape": ""
          }
         },
         "name": "Seasonal Naive Forecaster",
         "offsetgroup": "Seasonal Naive Forecaster",
         "orientation": "v",
         "showlegend": false,
         "type": "histogram",
         "x": [
          0,
          0,
          0,
          0,
          0,
          0,
          0,
          -128812.8600000001,
          14159.029999999912,
          -10055.109999999986,
          50728.66000000003,
          113038.05000000005,
          83054.03999999992,
          13729.469999999972,
          30349.050000000047,
          6489.390000000014,
          32894.119999999995,
          22409.119999999995,
          28698.359999999986,
          -24261.77999999991,
          -3198.0200000000186,
          -12729.140000000014,
          20312.540000000037,
          -9352.369999999995,
          16886.390000000014,
          -31764.209999999963,
          -18961.570000000065,
          6088.410000000033
         ],
         "xaxis": "x3",
         "yaxis": "y3"
        },
        {
         "marker": {
          "color": "#1f77b4"
         },
         "mode": "markers",
         "name": "Seasonal Naive Forecaster",
         "showlegend": false,
         "type": "scattergl",
         "x": [
          -1.8186455928500607,
          -1.4835398594012967,
          -1.2621451766228078,
          -1.089661981946107,
          -0.9446695913944757,
          -0.8172368220294002,
          -0.7018725954219602,
          -0.5951785333332777,
          -0.49487316356862376,
          -0.3993230673495512,
          -0.3072925712011558,
          -0.21779837992739867,
          -0.13001858330708427,
          -0.04323119115281719,
          0.04323119115281733,
          0.13001858330708427,
          0.21779837992739853,
          0.3072925712011558,
          0.3993230673495512,
          0.49487316356862393,
          0.5951785333332777,
          0.7018725954219602,
          0.8172368220294002,
          0.9446695913944757,
          1.0896619819461069,
          1.2621451766228082,
          1.4835398594012967,
          1.8186455928500607
         ],
         "xaxis": "x4",
         "y": [
          -128812.8600000001,
          -31764.209999999963,
          -24261.77999999991,
          -18961.570000000065,
          -12729.140000000014,
          -10055.109999999986,
          -9352.369999999995,
          -3198.0200000000186,
          0,
          0,
          0,
          0,
          0,
          0,
          0,
          6088.410000000033,
          6489.390000000014,
          13729.469999999972,
          14159.029999999912,
          16886.390000000014,
          20312.540000000037,
          22409.119999999995,
          28698.359999999986,
          30349.050000000047,
          32894.119999999995,
          50728.66000000003,
          83054.03999999992,
          113038.05000000005
         ],
         "yaxis": "y4"
        },
        {
         "line": {
          "color": "#3f3f3f"
         },
         "mode": "lines",
         "name": "Seasonal Naive Forecaster",
         "showlegend": false,
         "type": "scattergl",
         "x": [
          -1.8186455928500607,
          -1.4835398594012967,
          -1.2621451766228078,
          -1.089661981946107,
          -0.9446695913944757,
          -0.8172368220294002,
          -0.7018725954219602,
          -0.5951785333332777,
          -0.49487316356862376,
          -0.3993230673495512,
          -0.3072925712011558,
          -0.21779837992739867,
          -0.13001858330708427,
          -0.04323119115281719,
          0.04323119115281733,
          0.13001858330708427,
          0.21779837992739853,
          0.3072925712011558,
          0.3993230673495512,
          0.49487316356862393,
          0.5951785333332777,
          0.7018725954219602,
          0.8172368220294002,
          0.9446695913944757,
          1.0896619819461069,
          1.2621451766228082,
          1.4835398594012967,
          1.8186455928500607
         ],
         "xaxis": "x4",
         "y": [
          -65149.479589982766,
          -51830.77418080585,
          -43031.490060124845,
          -36176.18252990043,
          -30413.491105747988,
          -25348.70305458047,
          -20763.576643495217,
          -16523.044059218017,
          -12536.428679334502,
          -8738.810625285565,
          -5081.078320182293,
          -1524.1509076289485,
          1964.6382576038304,
          5413.984520460674,
          8850.413336682186,
          12299.759599539024,
          15788.548764771796,
          19345.47617732515,
          23003.208482428417,
          26800.82653647736,
          30787.44191636087,
          35027.97450063807,
          39613.100911723326,
          44677.888962890844,
          50440.58038704327,
          57295.88791726772,
          66095.17203794871,
          79413.87744712562
         ],
         "yaxis": "y4"
        },
        {
         "line": {
          "color": "#3f3f3f"
         },
         "mode": "lines",
         "name": "ACF",
         "showlegend": false,
         "type": "scattergl",
         "x": [
          0,
          0
         ],
         "xaxis": "x5",
         "y": [
          0,
          1
         ],
         "yaxis": "y5"
        },
        {
         "line": {
          "color": "#3f3f3f"
         },
         "mode": "lines",
         "name": "ACF",
         "showlegend": false,
         "type": "scattergl",
         "x": [
          1,
          1
         ],
         "xaxis": "x5",
         "y": [
          0,
          0.3013353289855342
         ],
         "yaxis": "y5"
        },
        {
         "line": {
          "color": "#3f3f3f"
         },
         "mode": "lines",
         "name": "ACF",
         "showlegend": false,
         "type": "scattergl",
         "x": [
          2,
          2
         ],
         "xaxis": "x5",
         "y": [
          0,
          0.21649454282910605
         ],
         "yaxis": "y5"
        },
        {
         "line": {
          "color": "#3f3f3f"
         },
         "mode": "lines",
         "name": "ACF",
         "showlegend": false,
         "type": "scattergl",
         "x": [
          3,
          3
         ],
         "xaxis": "x5",
         "y": [
          0,
          -0.08949462779399078
         ],
         "yaxis": "y5"
        },
        {
         "line": {
          "color": "#3f3f3f"
         },
         "mode": "lines",
         "name": "ACF",
         "showlegend": false,
         "type": "scattergl",
         "x": [
          4,
          4
         ],
         "xaxis": "x5",
         "y": [
          0,
          -0.2033597674686085
         ],
         "yaxis": "y5"
        },
        {
         "line": {
          "color": "#3f3f3f"
         },
         "mode": "lines",
         "name": "ACF",
         "showlegend": false,
         "type": "scattergl",
         "x": [
          5,
          5
         ],
         "xaxis": "x5",
         "y": [
          0,
          -0.16689718803298506
         ],
         "yaxis": "y5"
        },
        {
         "line": {
          "color": "#3f3f3f"
         },
         "mode": "lines",
         "name": "ACF",
         "showlegend": false,
         "type": "scattergl",
         "x": [
          6,
          6
         ],
         "xaxis": "x5",
         "y": [
          0,
          0.10210581937304028
         ],
         "yaxis": "y5"
        },
        {
         "line": {
          "color": "#3f3f3f"
         },
         "mode": "lines",
         "name": "ACF",
         "showlegend": false,
         "type": "scattergl",
         "x": [
          7,
          7
         ],
         "xaxis": "x5",
         "y": [
          0,
          -0.10110853099297744
         ],
         "yaxis": "y5"
        },
        {
         "line": {
          "color": "#3f3f3f"
         },
         "mode": "lines",
         "name": "ACF",
         "showlegend": false,
         "type": "scattergl",
         "x": [
          8,
          8
         ],
         "xaxis": "x5",
         "y": [
          0,
          -0.1265725284011435
         ],
         "yaxis": "y5"
        },
        {
         "line": {
          "color": "#3f3f3f"
         },
         "mode": "lines",
         "name": "ACF",
         "showlegend": false,
         "type": "scattergl",
         "x": [
          9,
          9
         ],
         "xaxis": "x5",
         "y": [
          0,
          -0.25219442039034706
         ],
         "yaxis": "y5"
        },
        {
         "line": {
          "color": "#3f3f3f"
         },
         "mode": "lines",
         "name": "ACF",
         "showlegend": false,
         "type": "scattergl",
         "x": [
          10,
          10
         ],
         "xaxis": "x5",
         "y": [
          0,
          -0.12398431949390246
         ],
         "yaxis": "y5"
        },
        {
         "line": {
          "color": "#3f3f3f"
         },
         "mode": "lines",
         "name": "ACF",
         "showlegend": false,
         "type": "scattergl",
         "x": [
          11,
          11
         ],
         "xaxis": "x5",
         "y": [
          0,
          -0.14340478465330084
         ],
         "yaxis": "y5"
        },
        {
         "line": {
          "color": "#3f3f3f"
         },
         "mode": "lines",
         "name": "ACF",
         "showlegend": false,
         "type": "scattergl",
         "x": [
          12,
          12
         ],
         "xaxis": "x5",
         "y": [
          0,
          0.04630732709487951
         ],
         "yaxis": "y5"
        },
        {
         "line": {
          "color": "#3f3f3f"
         },
         "mode": "lines",
         "name": "ACF",
         "showlegend": false,
         "type": "scattergl",
         "x": [
          13,
          13
         ],
         "xaxis": "x5",
         "y": [
          0,
          -0.050362138786578706
         ],
         "yaxis": "y5"
        },
        {
         "line": {
          "color": "#3f3f3f"
         },
         "mode": "lines",
         "name": "ACF",
         "showlegend": false,
         "type": "scattergl",
         "x": [
          14,
          14
         ],
         "xaxis": "x5",
         "y": [
          0,
          -0.06592830938661888
         ],
         "yaxis": "y5"
        },
        {
         "line": {
          "color": "#3f3f3f"
         },
         "mode": "lines",
         "name": "ACF",
         "showlegend": false,
         "type": "scattergl",
         "x": [
          15,
          15
         ],
         "xaxis": "x5",
         "y": [
          0,
          -0.1495913368546746
         ],
         "yaxis": "y5"
        },
        {
         "line": {
          "color": "#3f3f3f"
         },
         "mode": "lines",
         "name": "ACF",
         "showlegend": false,
         "type": "scattergl",
         "x": [
          16,
          16
         ],
         "xaxis": "x5",
         "y": [
          0,
          0.03682208684050184
         ],
         "yaxis": "y5"
        },
        {
         "line": {
          "color": "#3f3f3f"
         },
         "mode": "lines",
         "name": "ACF",
         "showlegend": false,
         "type": "scattergl",
         "x": [
          17,
          17
         ],
         "xaxis": "x5",
         "y": [
          0,
          -0.022526309675437443
         ],
         "yaxis": "y5"
        },
        {
         "line": {
          "color": "#3f3f3f"
         },
         "mode": "lines",
         "name": "ACF",
         "showlegend": false,
         "type": "scattergl",
         "x": [
          18,
          18
         ],
         "xaxis": "x5",
         "y": [
          0,
          0.12122460882594692
         ],
         "yaxis": "y5"
        },
        {
         "line": {
          "color": "#3f3f3f"
         },
         "mode": "lines",
         "name": "ACF",
         "showlegend": false,
         "type": "scattergl",
         "x": [
          19,
          19
         ],
         "xaxis": "x5",
         "y": [
          0,
          0.09519840934473302
         ],
         "yaxis": "y5"
        },
        {
         "line": {
          "color": "#3f3f3f"
         },
         "mode": "lines",
         "name": "ACF",
         "showlegend": false,
         "type": "scattergl",
         "x": [
          20,
          20
         ],
         "xaxis": "x5",
         "y": [
          0,
          0.01751634864143551
         ],
         "yaxis": "y5"
        },
        {
         "line": {
          "color": "#3f3f3f"
         },
         "mode": "lines",
         "name": "ACF",
         "showlegend": false,
         "type": "scattergl",
         "x": [
          21,
          21
         ],
         "xaxis": "x5",
         "y": [
          0,
          0.0128107202904867
         ],
         "yaxis": "y5"
        },
        {
         "line": {
          "color": "#3f3f3f"
         },
         "mode": "lines",
         "name": "ACF",
         "showlegend": false,
         "type": "scattergl",
         "x": [
          22,
          22
         ],
         "xaxis": "x5",
         "y": [
          0,
          0.009608039685157546
         ],
         "yaxis": "y5"
        },
        {
         "line": {
          "color": "#3f3f3f"
         },
         "mode": "lines",
         "name": "ACF",
         "showlegend": false,
         "type": "scattergl",
         "x": [
          23,
          23
         ],
         "xaxis": "x5",
         "y": [
          0,
          0.011733396030613383
         ],
         "yaxis": "y5"
        },
        {
         "line": {
          "color": "#3f3f3f"
         },
         "mode": "lines",
         "name": "ACF",
         "showlegend": false,
         "type": "scattergl",
         "x": [
          24,
          24
         ],
         "xaxis": "x5",
         "y": [
          0,
          0.009075226337995112
         ],
         "yaxis": "y5"
        },
        {
         "line": {
          "color": "#3f3f3f"
         },
         "mode": "lines",
         "name": "ACF",
         "showlegend": false,
         "type": "scattergl",
         "x": [
          25,
          25
         ],
         "xaxis": "x5",
         "y": [
          0,
          0.010648109147028692
         ],
         "yaxis": "y5"
        },
        {
         "line": {
          "color": "#3f3f3f"
         },
         "mode": "lines",
         "name": "ACF",
         "showlegend": false,
         "type": "scattergl",
         "x": [
          26,
          26
         ],
         "xaxis": "x5",
         "y": [
          0,
          0.004375985452825745
         ],
         "yaxis": "y5"
        },
        {
         "line": {
          "color": "#3f3f3f"
         },
         "mode": "lines",
         "name": "ACF",
         "showlegend": false,
         "type": "scattergl",
         "x": [
          27,
          27
         ],
         "xaxis": "x5",
         "y": [
          0,
          0.0001683130512809242
         ],
         "yaxis": "y5"
        },
        {
         "marker": {
          "color": "#1f77b4",
          "size": 6
         },
         "mode": "markers",
         "name": "ACF",
         "showlegend": false,
         "type": "scattergl",
         "x": [
          0,
          1,
          2,
          3,
          4,
          5,
          6,
          7,
          8,
          9,
          10,
          11,
          12,
          13,
          14,
          15,
          16,
          17,
          18,
          19,
          20,
          21,
          22,
          23,
          24,
          25,
          26,
          27
         ],
         "xaxis": "x5",
         "y": [
          1,
          0.3013353289855342,
          0.21649454282910605,
          -0.08949462779399078,
          -0.2033597674686085,
          -0.16689718803298506,
          0.10210581937304028,
          -0.10110853099297744,
          -0.1265725284011435,
          -0.25219442039034706,
          -0.12398431949390246,
          -0.14340478465330084,
          0.04630732709487951,
          -0.050362138786578706,
          -0.06592830938661888,
          -0.1495913368546746,
          0.03682208684050184,
          -0.022526309675437443,
          0.12122460882594692,
          0.09519840934473302,
          0.01751634864143551,
          0.0128107202904867,
          0.009608039685157546,
          0.011733396030613383,
          0.009075226337995112,
          0.010648109147028692,
          0.004375985452825745,
          0.0001683130512809242
         ],
         "yaxis": "y5"
        },
        {
         "line": {
          "color": "rgba(255,255,255,0)"
         },
         "mode": "lines",
         "name": "UC",
         "showlegend": false,
         "type": "scatter",
         "x": [
          0,
          1,
          2,
          3,
          4,
          5,
          6,
          7,
          8,
          9,
          10,
          11,
          12,
          13,
          14,
          15,
          16,
          17,
          18,
          19,
          20,
          21,
          22,
          23,
          24,
          25,
          26,
          27
         ],
         "xaxis": "x5",
         "y": [
          0,
          0.37039837726687336,
          0.4026293333216231,
          0.4182953554814187,
          0.42091409145789416,
          0.43418443185713296,
          0.442898590874769,
          0.44611639832207084,
          0.4492492750536392,
          0.45411540777405973,
          0.4729403324368263,
          0.4773787913383525,
          0.4832528535358873,
          0.48386125444632183,
          0.48457988098106264,
          0.48580892163379097,
          0.49208788580345153,
          0.49246575853940744,
          0.4926071033577521,
          0.49668302712492407,
          0.49918008084748106,
          0.4992644010006331,
          0.4993094966904472,
          0.49933486122341175,
          0.49937268607853874,
          0.4993953126347089,
          0.4994264602738027,
          0.4994317206409234
         ],
         "yaxis": "y5"
        },
        {
         "fill": "tonexty",
         "fillcolor": "rgba(32, 146, 230,0.3)",
         "line": {
          "color": "rgba(255,255,255,0)"
         },
         "mode": "lines",
         "name": "LC",
         "showlegend": false,
         "type": "scatter",
         "x": [
          0,
          1,
          2,
          3,
          4,
          5,
          6,
          7,
          8,
          9,
          10,
          11,
          12,
          13,
          14,
          15,
          16,
          17,
          18,
          19,
          20,
          21,
          22,
          23,
          24,
          25,
          26,
          27
         ],
         "xaxis": "x5",
         "y": [
          0,
          -0.3703983772668733,
          -0.40262933332162315,
          -0.41829535548141883,
          -0.42091409145789416,
          -0.43418443185713296,
          -0.4428985908747691,
          -0.44611639832207084,
          -0.4492492750536392,
          -0.45411540777405973,
          -0.4729403324368263,
          -0.47737879133835237,
          -0.48325285353588726,
          -0.4838612544463219,
          -0.48457988098106264,
          -0.48580892163379097,
          -0.4920878858034514,
          -0.49246575853940744,
          -0.4926071033577521,
          -0.49668302712492407,
          -0.49918008084748106,
          -0.4992644010006331,
          -0.4993094966904473,
          -0.4993348612234118,
          -0.4993726860785388,
          -0.4993953126347088,
          -0.4994264602738027,
          -0.4994317206409234
         ],
         "yaxis": "y5"
        },
        {
         "line": {
          "color": "#3f3f3f"
         },
         "mode": "lines",
         "name": "PACF",
         "showlegend": false,
         "type": "scattergl",
         "x": [
          0,
          0
         ],
         "xaxis": "x6",
         "y": [
          0,
          1
         ],
         "yaxis": "y6"
        },
        {
         "line": {
          "color": "#3f3f3f"
         },
         "mode": "lines",
         "name": "PACF",
         "showlegend": false,
         "type": "scattergl",
         "x": [
          1,
          1
         ],
         "xaxis": "x6",
         "y": [
          0,
          0.31249589672573913
         ],
         "yaxis": "y6"
        },
        {
         "line": {
          "color": "#3f3f3f"
         },
         "mode": "lines",
         "name": "PACF",
         "showlegend": false,
         "type": "scattergl",
         "x": [
          2,
          2
         ],
         "xaxis": "x6",
         "y": [
          0,
          0.15015774049101055
         ],
         "yaxis": "y6"
        },
        {
         "line": {
          "color": "#3f3f3f"
         },
         "mode": "lines",
         "name": "PACF",
         "showlegend": false,
         "type": "scattergl",
         "x": [
          3,
          3
         ],
         "xaxis": "x6",
         "y": [
          0,
          -0.23704659298471703
         ],
         "yaxis": "y6"
        },
        {
         "line": {
          "color": "#3f3f3f"
         },
         "mode": "lines",
         "name": "PACF",
         "showlegend": false,
         "type": "scattergl",
         "x": [
          4,
          4
         ],
         "xaxis": "x6",
         "y": [
          0,
          -0.21944660667848584
         ],
         "yaxis": "y6"
        },
        {
         "line": {
          "color": "#3f3f3f"
         },
         "mode": "lines",
         "name": "PACF",
         "showlegend": false,
         "type": "scattergl",
         "x": [
          5,
          5
         ],
         "xaxis": "x6",
         "y": [
          0,
          -0.012097265746759848
         ],
         "yaxis": "y6"
        },
        {
         "line": {
          "color": "#3f3f3f"
         },
         "mode": "lines",
         "name": "PACF",
         "showlegend": false,
         "type": "scattergl",
         "x": [
          6,
          6
         ],
         "xaxis": "x6",
         "y": [
          0,
          0.35168999274370866
         ],
         "yaxis": "y6"
        },
        {
         "line": {
          "color": "#3f3f3f"
         },
         "mode": "lines",
         "name": "PACF",
         "showlegend": false,
         "type": "scattergl",
         "x": [
          7,
          7
         ],
         "xaxis": "x6",
         "y": [
          0,
          -0.3500385029590366
         ],
         "yaxis": "y6"
        },
        {
         "line": {
          "color": "#3f3f3f"
         },
         "mode": "lines",
         "name": "PACF",
         "showlegend": false,
         "type": "scattergl",
         "x": [
          8,
          8
         ],
         "xaxis": "x6",
         "y": [
          0,
          -0.4642350249542646
         ],
         "yaxis": "y6"
        },
        {
         "line": {
          "color": "#3f3f3f"
         },
         "mode": "lines",
         "name": "PACF",
         "showlegend": false,
         "type": "scattergl",
         "x": [
          9,
          9
         ],
         "xaxis": "x6",
         "y": [
          0,
          -0.2455620330146831
         ],
         "yaxis": "y6"
        },
        {
         "line": {
          "color": "#3f3f3f"
         },
         "mode": "lines",
         "name": "PACF",
         "showlegend": false,
         "type": "scattergl",
         "x": [
          10,
          10
         ],
         "xaxis": "x6",
         "y": [
          0,
          0.5233360962687559
         ],
         "yaxis": "y6"
        },
        {
         "line": {
          "color": "#3f3f3f"
         },
         "mode": "lines",
         "name": "PACF",
         "showlegend": false,
         "type": "scattergl",
         "x": [
          11,
          11
         ],
         "xaxis": "x6",
         "y": [
          0,
          -0.137108654851206
         ],
         "yaxis": "y6"
        },
        {
         "line": {
          "color": "#3f3f3f"
         },
         "mode": "lines",
         "name": "PACF",
         "showlegend": false,
         "type": "scattergl",
         "x": [
          12,
          12
         ],
         "xaxis": "x6",
         "y": [
          0,
          -0.9569395668051054
         ],
         "yaxis": "y6"
        },
        {
         "line": {
          "color": "#3f3f3f"
         },
         "mode": "lines",
         "name": "PACF",
         "showlegend": false,
         "type": "scattergl",
         "x": [
          13,
          13
         ],
         "xaxis": "x6",
         "y": [
          0,
          -7.794470179632172
         ],
         "yaxis": "y6"
        },
        {
         "marker": {
          "color": "#1f77b4",
          "size": 6
         },
         "mode": "markers",
         "name": "PACF",
         "showlegend": false,
         "type": "scattergl",
         "x": [
          0,
          1,
          2,
          3,
          4,
          5,
          6,
          7,
          8,
          9,
          10,
          11,
          12,
          13
         ],
         "xaxis": "x6",
         "y": [
          1,
          0.31249589672573913,
          0.15015774049101055,
          -0.23704659298471703,
          -0.21944660667848584,
          -0.012097265746759848,
          0.35168999274370866,
          -0.3500385029590366,
          -0.4642350249542646,
          -0.2455620330146831,
          0.5233360962687559,
          -0.137108654851206,
          -0.9569395668051054,
          -7.794470179632172
         ],
         "yaxis": "y6"
        },
        {
         "line": {
          "color": "rgba(255,255,255,0)"
         },
         "mode": "lines",
         "name": "UC",
         "showlegend": false,
         "type": "scatter",
         "x": [
          0,
          1,
          2,
          3,
          4,
          5,
          6,
          7,
          8,
          9,
          10,
          11,
          12,
          13
         ],
         "xaxis": "x6",
         "y": [
          0,
          0.37039837726687336,
          0.37039837726687336,
          0.3703983772668733,
          0.3703983772668733,
          0.3703983772668733,
          0.37039837726687336,
          0.3703983772668733,
          0.3703983772668733,
          0.3703983772668733,
          0.3703983772668733,
          0.3703983772668733,
          0.3703983772668733,
          0.3703983772668735
         ],
         "yaxis": "y6"
        },
        {
         "fill": "tonexty",
         "fillcolor": "rgba(32, 146, 230,0.3)",
         "line": {
          "color": "rgba(255,255,255,0)"
         },
         "mode": "lines",
         "name": "LC",
         "showlegend": false,
         "type": "scatter",
         "x": [
          0,
          1,
          2,
          3,
          4,
          5,
          6,
          7,
          8,
          9,
          10,
          11,
          12,
          13
         ],
         "xaxis": "x6",
         "y": [
          0,
          -0.3703983772668733,
          -0.3703983772668733,
          -0.37039837726687325,
          -0.3703983772668733,
          -0.3703983772668733,
          -0.3703983772668733,
          -0.3703983772668733,
          -0.3703983772668733,
          -0.37039837726687325,
          -0.3703983772668733,
          -0.37039837726687325,
          -0.3703983772668734,
          -0.37039837726687264
         ],
         "yaxis": "y6"
        }
       ],
       "layout": {
        "annotations": [
         {
          "font": {
           "size": 16
          },
          "showarrow": false,
          "text": "Seasonal Naive Forecaster Residuals",
          "x": 0.225,
          "xanchor": "center",
          "xref": "paper",
          "y": 1,
          "yanchor": "bottom",
          "yref": "paper"
         },
         {
          "font": {
           "size": 16
          },
          "showarrow": false,
          "text": "Periodogram",
          "x": 0.775,
          "xanchor": "center",
          "xref": "paper",
          "y": 1,
          "yanchor": "bottom",
          "yref": "paper"
         },
         {
          "font": {
           "size": 16
          },
          "showarrow": false,
          "text": "Histogram",
          "x": 0.225,
          "xanchor": "center",
          "xref": "paper",
          "y": 0.6111111111111112,
          "yanchor": "bottom",
          "yref": "paper"
         },
         {
          "font": {
           "size": 16
          },
          "showarrow": false,
          "text": "Q-Q Plot",
          "x": 0.775,
          "xanchor": "center",
          "xref": "paper",
          "y": 0.6111111111111112,
          "yanchor": "bottom",
          "yref": "paper"
         },
         {
          "font": {
           "size": 16
          },
          "showarrow": false,
          "text": "ACF",
          "x": 0.225,
          "xanchor": "center",
          "xref": "paper",
          "y": 0.22222222222222227,
          "yanchor": "bottom",
          "yref": "paper"
         },
         {
          "font": {
           "size": 16
          },
          "showarrow": false,
          "text": "PACF",
          "x": 0.775,
          "xanchor": "center",
          "xref": "paper",
          "y": 0.22222222222222227,
          "yanchor": "bottom",
          "yref": "paper"
         }
        ],
        "showlegend": false,
        "template": {
         "data": {
          "bar": [
           {
            "error_x": {
             "color": "rgb(51,51,51)"
            },
            "error_y": {
             "color": "rgb(51,51,51)"
            },
            "marker": {
             "line": {
              "color": "rgb(237,237,237)",
              "width": 0.5
             },
             "pattern": {
              "fillmode": "overlay",
              "size": 10,
              "solidity": 0.2
             }
            },
            "type": "bar"
           }
          ],
          "barpolar": [
           {
            "marker": {
             "line": {
              "color": "rgb(237,237,237)",
              "width": 0.5
             },
             "pattern": {
              "fillmode": "overlay",
              "size": 10,
              "solidity": 0.2
             }
            },
            "type": "barpolar"
           }
          ],
          "carpet": [
           {
            "aaxis": {
             "endlinecolor": "rgb(51,51,51)",
             "gridcolor": "white",
             "linecolor": "white",
             "minorgridcolor": "white",
             "startlinecolor": "rgb(51,51,51)"
            },
            "baxis": {
             "endlinecolor": "rgb(51,51,51)",
             "gridcolor": "white",
             "linecolor": "white",
             "minorgridcolor": "white",
             "startlinecolor": "rgb(51,51,51)"
            },
            "type": "carpet"
           }
          ],
          "choropleth": [
           {
            "colorbar": {
             "outlinewidth": 0,
             "tickcolor": "rgb(237,237,237)",
             "ticklen": 6,
             "ticks": "inside"
            },
            "type": "choropleth"
           }
          ],
          "contour": [
           {
            "colorbar": {
             "outlinewidth": 0,
             "tickcolor": "rgb(237,237,237)",
             "ticklen": 6,
             "ticks": "inside"
            },
            "colorscale": [
             [
              0,
              "rgb(20,44,66)"
             ],
             [
              1,
              "rgb(90,179,244)"
             ]
            ],
            "type": "contour"
           }
          ],
          "contourcarpet": [
           {
            "colorbar": {
             "outlinewidth": 0,
             "tickcolor": "rgb(237,237,237)",
             "ticklen": 6,
             "ticks": "inside"
            },
            "type": "contourcarpet"
           }
          ],
          "heatmap": [
           {
            "colorbar": {
             "outlinewidth": 0,
             "tickcolor": "rgb(237,237,237)",
             "ticklen": 6,
             "ticks": "inside"
            },
            "colorscale": [
             [
              0,
              "rgb(20,44,66)"
             ],
             [
              1,
              "rgb(90,179,244)"
             ]
            ],
            "type": "heatmap"
           }
          ],
          "heatmapgl": [
           {
            "colorbar": {
             "outlinewidth": 0,
             "tickcolor": "rgb(237,237,237)",
             "ticklen": 6,
             "ticks": "inside"
            },
            "colorscale": [
             [
              0,
              "rgb(20,44,66)"
             ],
             [
              1,
              "rgb(90,179,244)"
             ]
            ],
            "type": "heatmapgl"
           }
          ],
          "histogram": [
           {
            "marker": {
             "pattern": {
              "fillmode": "overlay",
              "size": 10,
              "solidity": 0.2
             }
            },
            "type": "histogram"
           }
          ],
          "histogram2d": [
           {
            "colorbar": {
             "outlinewidth": 0,
             "tickcolor": "rgb(237,237,237)",
             "ticklen": 6,
             "ticks": "inside"
            },
            "colorscale": [
             [
              0,
              "rgb(20,44,66)"
             ],
             [
              1,
              "rgb(90,179,244)"
             ]
            ],
            "type": "histogram2d"
           }
          ],
          "histogram2dcontour": [
           {
            "colorbar": {
             "outlinewidth": 0,
             "tickcolor": "rgb(237,237,237)",
             "ticklen": 6,
             "ticks": "inside"
            },
            "colorscale": [
             [
              0,
              "rgb(20,44,66)"
             ],
             [
              1,
              "rgb(90,179,244)"
             ]
            ],
            "type": "histogram2dcontour"
           }
          ],
          "mesh3d": [
           {
            "colorbar": {
             "outlinewidth": 0,
             "tickcolor": "rgb(237,237,237)",
             "ticklen": 6,
             "ticks": "inside"
            },
            "type": "mesh3d"
           }
          ],
          "parcoords": [
           {
            "line": {
             "colorbar": {
              "outlinewidth": 0,
              "tickcolor": "rgb(237,237,237)",
              "ticklen": 6,
              "ticks": "inside"
             }
            },
            "type": "parcoords"
           }
          ],
          "pie": [
           {
            "automargin": true,
            "type": "pie"
           }
          ],
          "scatter": [
           {
            "fillpattern": {
             "fillmode": "overlay",
             "size": 10,
             "solidity": 0.2
            },
            "type": "scatter"
           }
          ],
          "scatter3d": [
           {
            "line": {
             "colorbar": {
              "outlinewidth": 0,
              "tickcolor": "rgb(237,237,237)",
              "ticklen": 6,
              "ticks": "inside"
             }
            },
            "marker": {
             "colorbar": {
              "outlinewidth": 0,
              "tickcolor": "rgb(237,237,237)",
              "ticklen": 6,
              "ticks": "inside"
             }
            },
            "type": "scatter3d"
           }
          ],
          "scattercarpet": [
           {
            "marker": {
             "colorbar": {
              "outlinewidth": 0,
              "tickcolor": "rgb(237,237,237)",
              "ticklen": 6,
              "ticks": "inside"
             }
            },
            "type": "scattercarpet"
           }
          ],
          "scattergeo": [
           {
            "marker": {
             "colorbar": {
              "outlinewidth": 0,
              "tickcolor": "rgb(237,237,237)",
              "ticklen": 6,
              "ticks": "inside"
             }
            },
            "type": "scattergeo"
           }
          ],
          "scattergl": [
           {
            "marker": {
             "colorbar": {
              "outlinewidth": 0,
              "tickcolor": "rgb(237,237,237)",
              "ticklen": 6,
              "ticks": "inside"
             }
            },
            "type": "scattergl"
           }
          ],
          "scattermapbox": [
           {
            "marker": {
             "colorbar": {
              "outlinewidth": 0,
              "tickcolor": "rgb(237,237,237)",
              "ticklen": 6,
              "ticks": "inside"
             }
            },
            "type": "scattermapbox"
           }
          ],
          "scatterpolar": [
           {
            "marker": {
             "colorbar": {
              "outlinewidth": 0,
              "tickcolor": "rgb(237,237,237)",
              "ticklen": 6,
              "ticks": "inside"
             }
            },
            "type": "scatterpolar"
           }
          ],
          "scatterpolargl": [
           {
            "marker": {
             "colorbar": {
              "outlinewidth": 0,
              "tickcolor": "rgb(237,237,237)",
              "ticklen": 6,
              "ticks": "inside"
             }
            },
            "type": "scatterpolargl"
           }
          ],
          "scatterternary": [
           {
            "marker": {
             "colorbar": {
              "outlinewidth": 0,
              "tickcolor": "rgb(237,237,237)",
              "ticklen": 6,
              "ticks": "inside"
             }
            },
            "type": "scatterternary"
           }
          ],
          "surface": [
           {
            "colorbar": {
             "outlinewidth": 0,
             "tickcolor": "rgb(237,237,237)",
             "ticklen": 6,
             "ticks": "inside"
            },
            "colorscale": [
             [
              0,
              "rgb(20,44,66)"
             ],
             [
              1,
              "rgb(90,179,244)"
             ]
            ],
            "type": "surface"
           }
          ],
          "table": [
           {
            "cells": {
             "fill": {
              "color": "rgb(237,237,237)"
             },
             "line": {
              "color": "white"
             }
            },
            "header": {
             "fill": {
              "color": "rgb(217,217,217)"
             },
             "line": {
              "color": "white"
             }
            },
            "type": "table"
           }
          ]
         },
         "layout": {
          "annotationdefaults": {
           "arrowhead": 0,
           "arrowwidth": 1
          },
          "autotypenumbers": "strict",
          "coloraxis": {
           "colorbar": {
            "outlinewidth": 0,
            "tickcolor": "rgb(237,237,237)",
            "ticklen": 6,
            "ticks": "inside"
           }
          },
          "colorscale": {
           "sequential": [
            [
             0,
             "rgb(20,44,66)"
            ],
            [
             1,
             "rgb(90,179,244)"
            ]
           ],
           "sequentialminus": [
            [
             0,
             "rgb(20,44,66)"
            ],
            [
             1,
             "rgb(90,179,244)"
            ]
           ]
          },
          "colorway": [
           "#F8766D",
           "#A3A500",
           "#00BF7D",
           "#00B0F6",
           "#E76BF3"
          ],
          "font": {
           "color": "rgb(51,51,51)"
          },
          "geo": {
           "bgcolor": "white",
           "lakecolor": "white",
           "landcolor": "rgb(237,237,237)",
           "showlakes": true,
           "showland": true,
           "subunitcolor": "white"
          },
          "hoverlabel": {
           "align": "left"
          },
          "hovermode": "closest",
          "paper_bgcolor": "white",
          "plot_bgcolor": "rgb(237,237,237)",
          "polar": {
           "angularaxis": {
            "gridcolor": "white",
            "linecolor": "white",
            "showgrid": true,
            "tickcolor": "rgb(51,51,51)",
            "ticks": "outside"
           },
           "bgcolor": "rgb(237,237,237)",
           "radialaxis": {
            "gridcolor": "white",
            "linecolor": "white",
            "showgrid": true,
            "tickcolor": "rgb(51,51,51)",
            "ticks": "outside"
           }
          },
          "scene": {
           "xaxis": {
            "backgroundcolor": "rgb(237,237,237)",
            "gridcolor": "white",
            "gridwidth": 2,
            "linecolor": "white",
            "showbackground": true,
            "showgrid": true,
            "tickcolor": "rgb(51,51,51)",
            "ticks": "outside",
            "zerolinecolor": "white"
           },
           "yaxis": {
            "backgroundcolor": "rgb(237,237,237)",
            "gridcolor": "white",
            "gridwidth": 2,
            "linecolor": "white",
            "showbackground": true,
            "showgrid": true,
            "tickcolor": "rgb(51,51,51)",
            "ticks": "outside",
            "zerolinecolor": "white"
           },
           "zaxis": {
            "backgroundcolor": "rgb(237,237,237)",
            "gridcolor": "white",
            "gridwidth": 2,
            "linecolor": "white",
            "showbackground": true,
            "showgrid": true,
            "tickcolor": "rgb(51,51,51)",
            "ticks": "outside",
            "zerolinecolor": "white"
           }
          },
          "shapedefaults": {
           "fillcolor": "black",
           "line": {
            "width": 0
           },
           "opacity": 0.3
          },
          "ternary": {
           "aaxis": {
            "gridcolor": "white",
            "linecolor": "white",
            "showgrid": true,
            "tickcolor": "rgb(51,51,51)",
            "ticks": "outside"
           },
           "baxis": {
            "gridcolor": "white",
            "linecolor": "white",
            "showgrid": true,
            "tickcolor": "rgb(51,51,51)",
            "ticks": "outside"
           },
           "bgcolor": "rgb(237,237,237)",
           "caxis": {
            "gridcolor": "white",
            "linecolor": "white",
            "showgrid": true,
            "tickcolor": "rgb(51,51,51)",
            "ticks": "outside"
           }
          },
          "xaxis": {
           "automargin": true,
           "gridcolor": "white",
           "linecolor": "white",
           "showgrid": true,
           "tickcolor": "rgb(51,51,51)",
           "ticks": "outside",
           "title": {
            "standoff": 15
           },
           "zerolinecolor": "white"
          },
          "yaxis": {
           "automargin": true,
           "gridcolor": "white",
           "linecolor": "white",
           "showgrid": true,
           "tickcolor": "rgb(51,51,51)",
           "ticks": "outside",
           "title": {
            "standoff": 15
           },
           "zerolinecolor": "white"
          }
         }
        },
        "title": {
         "text": "Diagnostics | Model Residuals"
        },
        "xaxis": {
         "anchor": "y",
         "domain": [
          0,
          0.45
         ]
        },
        "xaxis2": {
         "anchor": "y2",
         "domain": [
          0.55,
          1
         ],
         "range": [
          0,
          0.5
         ]
        },
        "xaxis3": {
         "anchor": "y3",
         "domain": [
          0,
          0.45
         ],
         "title": {
          "text": "Range of Values"
         }
        },
        "xaxis4": {
         "anchor": "y4",
         "domain": [
          0.55,
          1
         ],
         "title": {
          "text": "Theoretical Quantities"
         }
        },
        "xaxis5": {
         "anchor": "y5",
         "domain": [
          0,
          0.45
         ],
         "range": [
          -1,
          29
         ]
        },
        "xaxis6": {
         "anchor": "y6",
         "domain": [
          0.55,
          1
         ],
         "range": [
          -1,
          15
         ]
        },
        "yaxis": {
         "anchor": "x",
         "domain": [
          0.7777777777777779,
          1
         ]
        },
        "yaxis2": {
         "anchor": "x2",
         "domain": [
          0.7777777777777779,
          1
         ]
        },
        "yaxis3": {
         "anchor": "x3",
         "domain": [
          0.38888888888888895,
          0.6111111111111112
         ],
         "title": {
          "text": "PDF"
         }
        },
        "yaxis4": {
         "anchor": "x4",
         "domain": [
          0.38888888888888895,
          0.6111111111111112
         ],
         "title": {
          "text": "Sample Quantities"
         }
        },
        "yaxis5": {
         "anchor": "x5",
         "domain": [
          0,
          0.22222222222222227
         ],
         "range": [
          -1.1,
          1.1
         ],
         "zerolinecolor": "#000000"
        },
        "yaxis6": {
         "anchor": "x6",
         "domain": [
          0,
          0.22222222222222227
         ],
         "range": [
          -1.1,
          1.1
         ],
         "zerolinecolor": "#000000"
        }
       }
      }
     },
     "metadata": {},
     "output_type": "display_data"
    }
   ],
   "source": [
    "# Visualizacion de los resultados: gráfico de diagnóstico\n",
    "plot_model(best,plot='diagnostics')"
   ]
  },
  {
   "cell_type": "code",
   "execution_count": 17,
   "metadata": {},
   "outputs": [
    {
     "data": {
      "application/vnd.plotly.v1+json": {
       "config": {
        "plotlyServerURL": "https://plot.ly"
       },
       "data": [
        {
         "line": {
          "color": "rgb(31, 119, 180)",
          "width": 2
         },
         "marker": {
          "color": "rgb(31, 119, 180)",
          "size": 5
         },
         "mode": "lines+markers",
         "name": "driver_pay",
         "type": "scattergl",
         "x": [
          0,
          1,
          2,
          3,
          4,
          5,
          6,
          7,
          8,
          9,
          10,
          11,
          12,
          13,
          14,
          15,
          16,
          17,
          18,
          19,
          20,
          21,
          22,
          23,
          24,
          25,
          26,
          27,
          28,
          29,
          30
         ],
         "xaxis": "x",
         "y": [
          660662.56,
          534783.42,
          592182.34,
          568249.25,
          583199.83,
          574170.9,
          529814.55,
          531849.7,
          548942.45,
          582127.23,
          618977.91,
          696237.88,
          657224.94,
          543544.02,
          562198.75,
          555431.84,
          615021.35,
          641387.03,
          724936.24,
          632963.16,
          540346,
          549469.61,
          575744.38,
          605668.98,
          658273.42,
          693172.03,
          614001.59,
          546434.41,
          537399.5,
          550198.45,
          626085.32
         ],
         "yaxis": "y"
        },
        {
         "line": {
          "color": "rgb(255, 127, 14)",
          "width": 2
         },
         "marker": {
          "color": "rgb(255, 127, 14)",
          "size": 5
         },
         "mode": "lines+markers",
         "name": "Seasonal Naive Forecaster",
         "type": "scattergl",
         "x": [
          0,
          1,
          2,
          3,
          4,
          5,
          6,
          7,
          8,
          9,
          10,
          11,
          12,
          13,
          14,
          15,
          16,
          17,
          18,
          19,
          20,
          21,
          22,
          23,
          24,
          25,
          26,
          27,
          28,
          29,
          30
         ],
         "xaxis": "x",
         "y": [
          660662.56,
          534783.42,
          592182.34,
          568249.25,
          583199.83,
          574170.9,
          529814.55,
          660662.56,
          534783.42,
          592182.34,
          568249.25,
          583199.83,
          574170.9,
          529814.55,
          531849.7,
          548942.45,
          582127.23,
          618977.91,
          696237.88,
          657224.94,
          543544.02,
          562198.75,
          555431.84,
          615021.35,
          641387.03,
          724936.24,
          632963.16,
          540346,
          null,
          null,
          null
         ],
         "yaxis": "y"
        }
       ],
       "layout": {
        "showlegend": true,
        "template": {
         "data": {
          "bar": [
           {
            "error_x": {
             "color": "rgb(51,51,51)"
            },
            "error_y": {
             "color": "rgb(51,51,51)"
            },
            "marker": {
             "line": {
              "color": "rgb(237,237,237)",
              "width": 0.5
             },
             "pattern": {
              "fillmode": "overlay",
              "size": 10,
              "solidity": 0.2
             }
            },
            "type": "bar"
           }
          ],
          "barpolar": [
           {
            "marker": {
             "line": {
              "color": "rgb(237,237,237)",
              "width": 0.5
             },
             "pattern": {
              "fillmode": "overlay",
              "size": 10,
              "solidity": 0.2
             }
            },
            "type": "barpolar"
           }
          ],
          "carpet": [
           {
            "aaxis": {
             "endlinecolor": "rgb(51,51,51)",
             "gridcolor": "white",
             "linecolor": "white",
             "minorgridcolor": "white",
             "startlinecolor": "rgb(51,51,51)"
            },
            "baxis": {
             "endlinecolor": "rgb(51,51,51)",
             "gridcolor": "white",
             "linecolor": "white",
             "minorgridcolor": "white",
             "startlinecolor": "rgb(51,51,51)"
            },
            "type": "carpet"
           }
          ],
          "choropleth": [
           {
            "colorbar": {
             "outlinewidth": 0,
             "tickcolor": "rgb(237,237,237)",
             "ticklen": 6,
             "ticks": "inside"
            },
            "type": "choropleth"
           }
          ],
          "contour": [
           {
            "colorbar": {
             "outlinewidth": 0,
             "tickcolor": "rgb(237,237,237)",
             "ticklen": 6,
             "ticks": "inside"
            },
            "colorscale": [
             [
              0,
              "rgb(20,44,66)"
             ],
             [
              1,
              "rgb(90,179,244)"
             ]
            ],
            "type": "contour"
           }
          ],
          "contourcarpet": [
           {
            "colorbar": {
             "outlinewidth": 0,
             "tickcolor": "rgb(237,237,237)",
             "ticklen": 6,
             "ticks": "inside"
            },
            "type": "contourcarpet"
           }
          ],
          "heatmap": [
           {
            "colorbar": {
             "outlinewidth": 0,
             "tickcolor": "rgb(237,237,237)",
             "ticklen": 6,
             "ticks": "inside"
            },
            "colorscale": [
             [
              0,
              "rgb(20,44,66)"
             ],
             [
              1,
              "rgb(90,179,244)"
             ]
            ],
            "type": "heatmap"
           }
          ],
          "heatmapgl": [
           {
            "colorbar": {
             "outlinewidth": 0,
             "tickcolor": "rgb(237,237,237)",
             "ticklen": 6,
             "ticks": "inside"
            },
            "colorscale": [
             [
              0,
              "rgb(20,44,66)"
             ],
             [
              1,
              "rgb(90,179,244)"
             ]
            ],
            "type": "heatmapgl"
           }
          ],
          "histogram": [
           {
            "marker": {
             "pattern": {
              "fillmode": "overlay",
              "size": 10,
              "solidity": 0.2
             }
            },
            "type": "histogram"
           }
          ],
          "histogram2d": [
           {
            "colorbar": {
             "outlinewidth": 0,
             "tickcolor": "rgb(237,237,237)",
             "ticklen": 6,
             "ticks": "inside"
            },
            "colorscale": [
             [
              0,
              "rgb(20,44,66)"
             ],
             [
              1,
              "rgb(90,179,244)"
             ]
            ],
            "type": "histogram2d"
           }
          ],
          "histogram2dcontour": [
           {
            "colorbar": {
             "outlinewidth": 0,
             "tickcolor": "rgb(237,237,237)",
             "ticklen": 6,
             "ticks": "inside"
            },
            "colorscale": [
             [
              0,
              "rgb(20,44,66)"
             ],
             [
              1,
              "rgb(90,179,244)"
             ]
            ],
            "type": "histogram2dcontour"
           }
          ],
          "mesh3d": [
           {
            "colorbar": {
             "outlinewidth": 0,
             "tickcolor": "rgb(237,237,237)",
             "ticklen": 6,
             "ticks": "inside"
            },
            "type": "mesh3d"
           }
          ],
          "parcoords": [
           {
            "line": {
             "colorbar": {
              "outlinewidth": 0,
              "tickcolor": "rgb(237,237,237)",
              "ticklen": 6,
              "ticks": "inside"
             }
            },
            "type": "parcoords"
           }
          ],
          "pie": [
           {
            "automargin": true,
            "type": "pie"
           }
          ],
          "scatter": [
           {
            "fillpattern": {
             "fillmode": "overlay",
             "size": 10,
             "solidity": 0.2
            },
            "type": "scatter"
           }
          ],
          "scatter3d": [
           {
            "line": {
             "colorbar": {
              "outlinewidth": 0,
              "tickcolor": "rgb(237,237,237)",
              "ticklen": 6,
              "ticks": "inside"
             }
            },
            "marker": {
             "colorbar": {
              "outlinewidth": 0,
              "tickcolor": "rgb(237,237,237)",
              "ticklen": 6,
              "ticks": "inside"
             }
            },
            "type": "scatter3d"
           }
          ],
          "scattercarpet": [
           {
            "marker": {
             "colorbar": {
              "outlinewidth": 0,
              "tickcolor": "rgb(237,237,237)",
              "ticklen": 6,
              "ticks": "inside"
             }
            },
            "type": "scattercarpet"
           }
          ],
          "scattergeo": [
           {
            "marker": {
             "colorbar": {
              "outlinewidth": 0,
              "tickcolor": "rgb(237,237,237)",
              "ticklen": 6,
              "ticks": "inside"
             }
            },
            "type": "scattergeo"
           }
          ],
          "scattergl": [
           {
            "marker": {
             "colorbar": {
              "outlinewidth": 0,
              "tickcolor": "rgb(237,237,237)",
              "ticklen": 6,
              "ticks": "inside"
             }
            },
            "type": "scattergl"
           }
          ],
          "scattermapbox": [
           {
            "marker": {
             "colorbar": {
              "outlinewidth": 0,
              "tickcolor": "rgb(237,237,237)",
              "ticklen": 6,
              "ticks": "inside"
             }
            },
            "type": "scattermapbox"
           }
          ],
          "scatterpolar": [
           {
            "marker": {
             "colorbar": {
              "outlinewidth": 0,
              "tickcolor": "rgb(237,237,237)",
              "ticklen": 6,
              "ticks": "inside"
             }
            },
            "type": "scatterpolar"
           }
          ],
          "scatterpolargl": [
           {
            "marker": {
             "colorbar": {
              "outlinewidth": 0,
              "tickcolor": "rgb(237,237,237)",
              "ticklen": 6,
              "ticks": "inside"
             }
            },
            "type": "scatterpolargl"
           }
          ],
          "scatterternary": [
           {
            "marker": {
             "colorbar": {
              "outlinewidth": 0,
              "tickcolor": "rgb(237,237,237)",
              "ticklen": 6,
              "ticks": "inside"
             }
            },
            "type": "scatterternary"
           }
          ],
          "surface": [
           {
            "colorbar": {
             "outlinewidth": 0,
             "tickcolor": "rgb(237,237,237)",
             "ticklen": 6,
             "ticks": "inside"
            },
            "colorscale": [
             [
              0,
              "rgb(20,44,66)"
             ],
             [
              1,
              "rgb(90,179,244)"
             ]
            ],
            "type": "surface"
           }
          ],
          "table": [
           {
            "cells": {
             "fill": {
              "color": "rgb(237,237,237)"
             },
             "line": {
              "color": "white"
             }
            },
            "header": {
             "fill": {
              "color": "rgb(217,217,217)"
             },
             "line": {
              "color": "white"
             }
            },
            "type": "table"
           }
          ]
         },
         "layout": {
          "annotationdefaults": {
           "arrowhead": 0,
           "arrowwidth": 1
          },
          "autotypenumbers": "strict",
          "coloraxis": {
           "colorbar": {
            "outlinewidth": 0,
            "tickcolor": "rgb(237,237,237)",
            "ticklen": 6,
            "ticks": "inside"
           }
          },
          "colorscale": {
           "sequential": [
            [
             0,
             "rgb(20,44,66)"
            ],
            [
             1,
             "rgb(90,179,244)"
            ]
           ],
           "sequentialminus": [
            [
             0,
             "rgb(20,44,66)"
            ],
            [
             1,
             "rgb(90,179,244)"
            ]
           ]
          },
          "colorway": [
           "#F8766D",
           "#A3A500",
           "#00BF7D",
           "#00B0F6",
           "#E76BF3"
          ],
          "font": {
           "color": "rgb(51,51,51)"
          },
          "geo": {
           "bgcolor": "white",
           "lakecolor": "white",
           "landcolor": "rgb(237,237,237)",
           "showlakes": true,
           "showland": true,
           "subunitcolor": "white"
          },
          "hoverlabel": {
           "align": "left"
          },
          "hovermode": "closest",
          "paper_bgcolor": "white",
          "plot_bgcolor": "rgb(237,237,237)",
          "polar": {
           "angularaxis": {
            "gridcolor": "white",
            "linecolor": "white",
            "showgrid": true,
            "tickcolor": "rgb(51,51,51)",
            "ticks": "outside"
           },
           "bgcolor": "rgb(237,237,237)",
           "radialaxis": {
            "gridcolor": "white",
            "linecolor": "white",
            "showgrid": true,
            "tickcolor": "rgb(51,51,51)",
            "ticks": "outside"
           }
          },
          "scene": {
           "xaxis": {
            "backgroundcolor": "rgb(237,237,237)",
            "gridcolor": "white",
            "gridwidth": 2,
            "linecolor": "white",
            "showbackground": true,
            "showgrid": true,
            "tickcolor": "rgb(51,51,51)",
            "ticks": "outside",
            "zerolinecolor": "white"
           },
           "yaxis": {
            "backgroundcolor": "rgb(237,237,237)",
            "gridcolor": "white",
            "gridwidth": 2,
            "linecolor": "white",
            "showbackground": true,
            "showgrid": true,
            "tickcolor": "rgb(51,51,51)",
            "ticks": "outside",
            "zerolinecolor": "white"
           },
           "zaxis": {
            "backgroundcolor": "rgb(237,237,237)",
            "gridcolor": "white",
            "gridwidth": 2,
            "linecolor": "white",
            "showbackground": true,
            "showgrid": true,
            "tickcolor": "rgb(51,51,51)",
            "ticks": "outside",
            "zerolinecolor": "white"
           }
          },
          "shapedefaults": {
           "fillcolor": "black",
           "line": {
            "width": 0
           },
           "opacity": 0.3
          },
          "ternary": {
           "aaxis": {
            "gridcolor": "white",
            "linecolor": "white",
            "showgrid": true,
            "tickcolor": "rgb(51,51,51)",
            "ticks": "outside"
           },
           "baxis": {
            "gridcolor": "white",
            "linecolor": "white",
            "showgrid": true,
            "tickcolor": "rgb(51,51,51)",
            "ticks": "outside"
           },
           "bgcolor": "rgb(237,237,237)",
           "caxis": {
            "gridcolor": "white",
            "linecolor": "white",
            "showgrid": true,
            "tickcolor": "rgb(51,51,51)",
            "ticks": "outside"
           }
          },
          "xaxis": {
           "automargin": true,
           "gridcolor": "white",
           "linecolor": "white",
           "showgrid": true,
           "tickcolor": "rgb(51,51,51)",
           "ticks": "outside",
           "title": {
            "standoff": 15
           },
           "zerolinecolor": "white"
          },
          "yaxis": {
           "automargin": true,
           "gridcolor": "white",
           "linecolor": "white",
           "showgrid": true,
           "tickcolor": "rgb(51,51,51)",
           "ticks": "outside",
           "title": {
            "standoff": 15
           },
           "zerolinecolor": "white"
          }
         }
        },
        "title": {
         "text": "Actual vs. Forecast (In-Sample)"
        },
        "xaxis": {
         "anchor": "y",
         "domain": [
          0,
          1
         ]
        },
        "yaxis": {
         "anchor": "x",
         "domain": [
          0,
          1
         ]
        }
       }
      }
     },
     "metadata": {},
     "output_type": "display_data"
    }
   ],
   "source": [
    "# Visualizacion de los resultados: gráfico de resultados en la muestra\n",
    "plot_model(best,plot='insample')"
   ]
  },
  {
   "cell_type": "code",
   "execution_count": 18,
   "metadata": {},
   "outputs": [
    {
     "data": {
      "text/html": [
       "<div>\n",
       "<style scoped>\n",
       "    .dataframe tbody tr th:only-of-type {\n",
       "        vertical-align: middle;\n",
       "    }\n",
       "\n",
       "    .dataframe tbody tr th {\n",
       "        vertical-align: top;\n",
       "    }\n",
       "\n",
       "    .dataframe thead th {\n",
       "        text-align: right;\n",
       "    }\n",
       "</style>\n",
       "<table border=\"1\" class=\"dataframe\">\n",
       "  <thead>\n",
       "    <tr style=\"text-align: right;\">\n",
       "      <th></th>\n",
       "      <th>y_pred</th>\n",
       "    </tr>\n",
       "  </thead>\n",
       "  <tbody>\n",
       "    <tr>\n",
       "      <th>28</th>\n",
       "      <td>549469.61</td>\n",
       "    </tr>\n",
       "    <tr>\n",
       "      <th>29</th>\n",
       "      <td>575744.38</td>\n",
       "    </tr>\n",
       "    <tr>\n",
       "      <th>30</th>\n",
       "      <td>605668.98</td>\n",
       "    </tr>\n",
       "    <tr>\n",
       "      <th>31</th>\n",
       "      <td>658273.42</td>\n",
       "    </tr>\n",
       "    <tr>\n",
       "      <th>32</th>\n",
       "      <td>693172.03</td>\n",
       "    </tr>\n",
       "    <tr>\n",
       "      <th>33</th>\n",
       "      <td>614001.59</td>\n",
       "    </tr>\n",
       "    <tr>\n",
       "      <th>34</th>\n",
       "      <td>546434.41</td>\n",
       "    </tr>\n",
       "    <tr>\n",
       "      <th>35</th>\n",
       "      <td>549469.61</td>\n",
       "    </tr>\n",
       "    <tr>\n",
       "      <th>36</th>\n",
       "      <td>575744.38</td>\n",
       "    </tr>\n",
       "    <tr>\n",
       "      <th>37</th>\n",
       "      <td>605668.98</td>\n",
       "    </tr>\n",
       "    <tr>\n",
       "      <th>38</th>\n",
       "      <td>658273.42</td>\n",
       "    </tr>\n",
       "    <tr>\n",
       "      <th>39</th>\n",
       "      <td>693172.03</td>\n",
       "    </tr>\n",
       "    <tr>\n",
       "      <th>40</th>\n",
       "      <td>614001.59</td>\n",
       "    </tr>\n",
       "    <tr>\n",
       "      <th>41</th>\n",
       "      <td>546434.41</td>\n",
       "    </tr>\n",
       "    <tr>\n",
       "      <th>42</th>\n",
       "      <td>549469.61</td>\n",
       "    </tr>\n",
       "    <tr>\n",
       "      <th>43</th>\n",
       "      <td>575744.38</td>\n",
       "    </tr>\n",
       "    <tr>\n",
       "      <th>44</th>\n",
       "      <td>605668.98</td>\n",
       "    </tr>\n",
       "    <tr>\n",
       "      <th>45</th>\n",
       "      <td>658273.42</td>\n",
       "    </tr>\n",
       "    <tr>\n",
       "      <th>46</th>\n",
       "      <td>693172.03</td>\n",
       "    </tr>\n",
       "    <tr>\n",
       "      <th>47</th>\n",
       "      <td>614001.59</td>\n",
       "    </tr>\n",
       "    <tr>\n",
       "      <th>48</th>\n",
       "      <td>546434.41</td>\n",
       "    </tr>\n",
       "    <tr>\n",
       "      <th>49</th>\n",
       "      <td>549469.61</td>\n",
       "    </tr>\n",
       "    <tr>\n",
       "      <th>50</th>\n",
       "      <td>575744.38</td>\n",
       "    </tr>\n",
       "    <tr>\n",
       "      <th>51</th>\n",
       "      <td>605668.98</td>\n",
       "    </tr>\n",
       "  </tbody>\n",
       "</table>\n",
       "</div>"
      ],
      "text/plain": [
       "       y_pred\n",
       "28  549469.61\n",
       "29  575744.38\n",
       "30  605668.98\n",
       "31  658273.42\n",
       "32  693172.03\n",
       "33  614001.59\n",
       "34  546434.41\n",
       "35  549469.61\n",
       "36  575744.38\n",
       "37  605668.98\n",
       "38  658273.42\n",
       "39  693172.03\n",
       "40  614001.59\n",
       "41  546434.41\n",
       "42  549469.61\n",
       "43  575744.38\n",
       "44  605668.98\n",
       "45  658273.42\n",
       "46  693172.03\n",
       "47  614001.59\n",
       "48  546434.41\n",
       "49  549469.61\n",
       "50  575744.38\n",
       "51  605668.98"
      ]
     },
     "execution_count": 18,
     "metadata": {},
     "output_type": "execute_result"
    }
   ],
   "source": [
    "# Finalización con el modelo entrenado para un horizonte de predicción de 24 periodos.\n",
    "final_best = finalize_model(best)\n",
    "# predicción con el modelo entrenado para un horizonte de 24 periodos.\n",
    "predict_model(best,fh=24)"
   ]
  }
 ],
 "metadata": {
  "kernelspec": {
   "display_name": "Python 3",
   "language": "python",
   "name": "python3"
  },
  "language_info": {
   "codemirror_mode": {
    "name": "ipython",
    "version": 3
   },
   "file_extension": ".py",
   "mimetype": "text/x-python",
   "name": "python",
   "nbconvert_exporter": "python",
   "pygments_lexer": "ipython3",
   "version": "3.11.5"
  }
 },
 "nbformat": 4,
 "nbformat_minor": 2
}
